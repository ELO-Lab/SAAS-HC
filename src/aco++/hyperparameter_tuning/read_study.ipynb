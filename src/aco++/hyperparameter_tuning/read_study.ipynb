{
    "cells": [
        {
            "cell_type": "markdown",
            "metadata": {},
            "source": [
                "You may need:\n",
                "- ```mamba install -n general python=3.10```\n",
                "- ```pip install -U evosax \"jaxlib>=0.4.11\"```"
            ]
        },
        {
            "cell_type": "code",
            "execution_count": null,
            "metadata": {},
            "outputs": [],
            "source": [
                "import pickle\n",
                "import pandas as pd\n",
                "from pathlib import Path\n",
                "import os\n"
            ]
        },
        {
            "cell_type": "code",
            "execution_count": null,
            "metadata": {},
            "outputs": [],
            "source": [
                "# experiment_dir = Path(\"/mnt/c/Users/winvi/OneDrive - Trường ĐH CNTT - University of Information Technology/graduation_thesis/experiments/evosax_tuning\")\n",
                "# experiment_dir = Path(\"/home/user2/experiments/evosax_tuning\")\n",
                "backup_dir = experiment_dir / \"backup\"\n",
                "backup_flies = os.listdir(backup_dir)"
            ]
        },
        {
            "cell_type": "code",
            "execution_count": null,
            "metadata": {},
            "outputs": [],
            "source": [
                "df = pd.read_csv(backup_dir/backup_flies[-6])\n",
                "\n",
                "win_percent = (df.gain_percent >= 0).sum() / len(df.gain_percent) * 100\n",
                "print(\"win_percent:\", win_percent)\n",
                "a = df.gain_percent\n",
                "a[a < 0].mean(), a.mean(), a[a >= 0].mean()"
            ]
        },
        {
            "cell_type": "code",
            "execution_count": null,
            "metadata": {},
            "outputs": [],
            "source": [
                "df = pd.read_csv(backup_dir/backup_flies[-4])\n",
                "\n",
                "win_percent = (df.gain_percent >= 0).sum() / len(df.gain_percent) * 100\n",
                "print(\"win_percent:\", win_percent)\n",
                "a = df.gain_percent\n",
                "a[a < 0].mean(), a.mean(), a[a >= 0].mean()"
            ]
        },
        {
            "cell_type": "code",
            "execution_count": null,
            "metadata": {},
            "outputs": [],
            "source": [
                "df = pd.read_csv(backup_dir/backup_flies[-2])\n",
                "\n",
                "win_percent = (df.gain_percent >= 0).sum() / len(df.gain_percent) * 100\n",
                "print(\"win_percent:\", win_percent)\n",
                "a = df.gain_percent\n",
                "a[a < 0].mean(), a.mean(), a[a >= 0].mean()"
            ]
        },
        {
            "cell_type": "code",
            "execution_count": null,
            "metadata": {},
            "outputs": [],
            "source": [
                "with open(experiment_dir/\"study.pkl\", \"rb\") as f:\n",
                "    study = pickle.load(f)\n",
                "\n",
                "print(\"eval_call_count:\", study[\"eval_call_count\"])\n",
                "print(\"best_chain_flags\")\n",
                "print(study[\"best_chain_flags\"])\n",
                "print(\"second_best_chain_flags\")\n",
                "print(study[\"second_best_chain_flags\"])"
            ]
        },
        {
            "cell_type": "code",
            "execution_count": null,
            "metadata": {},
            "outputs": [],
            "source": [
                "# study"
            ]
        }
    ],
    "metadata": {
        "kernelspec": {
            "display_name": "general",
            "language": "python",
            "name": "python3"
        },
        "language_info": {
            "codemirror_mode": {
                "name": "ipython",
                "version": 3
            },
            "file_extension": ".py",
            "mimetype": "text/x-python",
            "name": "python",
            "nbconvert_exporter": "python",
            "pygments_lexer": "ipython3",
            "version": "3.10.12"
        },
        "orig_nbformat": 4
    },
    "nbformat": 4,
    "nbformat_minor": 2
}
