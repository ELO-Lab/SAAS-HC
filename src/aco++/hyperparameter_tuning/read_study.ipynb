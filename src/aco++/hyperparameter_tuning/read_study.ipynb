{
    "cells": [
        {
            "cell_type": "markdown",
            "metadata": {},
            "source": [
                "You may need:\n",
                "```shell\n",
                "mamba install python>=3.10\n",
                "pip install -U evosax \"jaxlib>=0.4.11\n",
                "```"
            ]
        },
        {
            "cell_type": "code",
            "execution_count": null,
            "metadata": {},
            "outputs": [],
            "source": [
                "import pickle\n",
                "import pandas as pd\n",
                "from pathlib import Path\n",
                "import os\n"
            ]
        },
        {
            "cell_type": "code",
            "execution_count": null,
            "metadata": {},
            "outputs": [],
            "source": [
                "def make_row(i):\n",
                "    global backup_dir, backup_flies\n",
                "\n",
                "    with open(backup_dir/backup_flies[i], \"rb\") as f:\n",
                "        study = pickle.load(f)\n",
                "    df = pd.read_csv(backup_dir/backup_flies[i-1])\n",
                "\n",
                "    victory_percent = (df.gain_percent >= 0).sum() / len(df.gain_percent) * 100\n",
                "    avg_gain_percent = df.gain_percent.mean()\n",
                "    eval_call_count = study[\"eval_call_count\"]\n",
                "    best_chain_flags = study[\"best_chain_flags\"]\n",
                "\n",
                "    row = f\"{eval_call_count}\\t\\t{victory_percent:.4f}\\t\\t{avg_gain_percent:.4f}\\t\\t{best_chain_flags}\"\n",
                "    print(row)"
            ]
        },
        {
            "cell_type": "code",
            "execution_count": null,
            "metadata": {},
            "outputs": [],
            "source": [
                "# experiment_dir = Path(\"/mnt/c/Users/winvi/OneDrive - Trường ĐH CNTT - University of Information Technology/graduation_thesis/experiments/evosax_tuning\")\n",
                "# experiment_dir = Path(\"/home/user2/experiments/evosax_tuning\")\n",
                "backup_dir = experiment_dir / \"backup\"\n",
                "backup_flies = os.listdir(backup_dir)"
            ]
        },
        {
            "cell_type": "code",
            "execution_count": null,
            "metadata": {},
            "outputs": [],
            "source": [
                "print(\"eval_call_count\\t\\tvictory_percent\\t\\tavg_gain_percent\\t\\tbest_chain_flags\")\n",
                "make_row(-5)\n",
                "make_row(-3)\n",
                "make_row(-1)"
            ]
        },
        {
            "cell_type": "code",
            "execution_count": null,
            "metadata": {},
            "outputs": [],
            "source": [
                "with open(backup_dir/backup_flies[-1], \"rb\") as f:\n",
                "    study = pickle.load(f)\n",
                "study"
            ]
        }
    ],
    "metadata": {
        "kernelspec": {
            "display_name": "general",
            "language": "python",
            "name": "python3"
        },
        "language_info": {
            "codemirror_mode": {
                "name": "ipython",
                "version": 3
            },
            "file_extension": ".py",
            "mimetype": "text/x-python",
            "name": "python",
            "nbconvert_exporter": "python",
            "pygments_lexer": "ipython3",
            "version": "3.11.4"
        },
        "orig_nbformat": 4
    },
    "nbformat": 4,
    "nbformat_minor": 2
}
