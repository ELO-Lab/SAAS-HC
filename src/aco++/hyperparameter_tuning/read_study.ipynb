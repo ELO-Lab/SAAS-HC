{
 "cells": [
  {
   "cell_type": "code",
   "execution_count": null,
   "metadata": {},
   "outputs": [],
   "source": [
    "import pickle\n",
    "\n",
    "# save_path = \"./evosax_tuning/study.pkl\"\n",
    "save_path = \"/home/user2/experiments/evosax_tuning/study.pkl\"\n",
    "with open(save_path, \"rb\") as f:\n",
    "    study = pickle.load(f)\n",
    "\n",
    "print(\"eval_call_count:\", study[\"eval_call_count\"])\n",
    "print(\"best_chain_flags\")\n",
    "print(study[\"best_chain_flags\"])\n",
    "print(\"second_best_chain_flags\")\n",
    "print(study[\"second_best_chain_flags\"])"
   ]
  },
  {
   "cell_type": "code",
   "execution_count": null,
   "metadata": {},
   "outputs": [],
   "source": [
    "study"
   ]
  }
 ],
 "metadata": {
  "kernelspec": {
   "display_name": "general",
   "language": "python",
   "name": "python3"
  },
  "language_info": {
   "codemirror_mode": {
    "name": "ipython",
    "version": 3
   },
   "file_extension": ".py",
   "mimetype": "text/x-python",
   "name": "python",
   "nbconvert_exporter": "python",
   "pygments_lexer": "ipython3",
   "version": "3.8.16"
  },
  "orig_nbformat": 4
 },
 "nbformat": 4,
 "nbformat_minor": 2
}
