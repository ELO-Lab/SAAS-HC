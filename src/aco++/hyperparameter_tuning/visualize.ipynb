{
 "cells": [
  {
   "cell_type": "code",
   "execution_count": 1,
   "metadata": {},
   "outputs": [],
   "source": [
    "import pickle\n",
    "import optuna"
   ]
  },
  {
   "cell_type": "code",
   "execution_count": 2,
   "metadata": {},
   "outputs": [],
   "source": [
    "with open(\"study.pkl\", \"rb\") as f:\n",
    "    study = pickle.load(f)"
   ]
  },
  {
   "cell_type": "code",
   "execution_count": 3,
   "metadata": {},
   "outputs": [
    {
     "data": {
      "text/plain": [
       "2"
      ]
     },
     "execution_count": 3,
     "metadata": {},
     "output_type": "execute_result"
    }
   ],
   "source": [
    "len(study.trials)"
   ]
  },
  {
   "cell_type": "code",
   "execution_count": 4,
   "metadata": {},
   "outputs": [
    {
     "ename": "ImportError",
     "evalue": "Tried to import 'sklearn' but failed. Please make sure that the package is installed correctly to use this feature. Actual error: No module named 'sklearn'.",
     "output_type": "error",
     "traceback": [
      "\u001b[0;31m---------------------------------------------------------------------------\u001b[0m",
      "\u001b[0;31mModuleNotFoundError\u001b[0m                       Traceback (most recent call last)",
      "File \u001b[0;32m/mnt/wsl/Chomevincentdatalinuxhomevhd/user2/mambaforge-pypy3/envs/general/lib/python3.8/site-packages/optuna/importance/_fanova/_fanova.py:32\u001b[0m\n\u001b[1;32m     31\u001b[0m \u001b[39mwith\u001b[39;00m try_import() \u001b[39mas\u001b[39;00m _imports:\n\u001b[0;32m---> 32\u001b[0m     \u001b[39mfrom\u001b[39;00m \u001b[39msklearn\u001b[39;00m\u001b[39m.\u001b[39;00m\u001b[39mensemble\u001b[39;00m \u001b[39mimport\u001b[39;00m RandomForestRegressor\n\u001b[1;32m     35\u001b[0m \u001b[39mclass\u001b[39;00m \u001b[39m_Fanova\u001b[39;00m:\n",
      "\u001b[0;31mModuleNotFoundError\u001b[0m: No module named 'sklearn'",
      "\nThe above exception was the direct cause of the following exception:\n",
      "\u001b[0;31mImportError\u001b[0m                               Traceback (most recent call last)",
      "Cell \u001b[0;32mIn[4], line 1\u001b[0m\n\u001b[0;32m----> 1\u001b[0m optuna\u001b[39m.\u001b[39;49mvisualization\u001b[39m.\u001b[39;49mplot_param_importances(\n\u001b[1;32m      2\u001b[0m     study, target\u001b[39m=\u001b[39;49m\u001b[39mlambda\u001b[39;49;00m t: t\u001b[39m.\u001b[39;49mvalues[\u001b[39m0\u001b[39;49m], target_name\u001b[39m=\u001b[39;49m\u001b[39m\"\u001b[39;49m\u001b[39mflops\u001b[39;49m\u001b[39m\"\u001b[39;49m\n\u001b[1;32m      3\u001b[0m )\n",
      "File \u001b[0;32m/mnt/wsl/Chomevincentdatalinuxhomevhd/user2/mambaforge-pypy3/envs/general/lib/python3.8/site-packages/optuna/visualization/_param_importances.py:140\u001b[0m, in \u001b[0;36mplot_param_importances\u001b[0;34m(study, evaluator, params, target, target_name)\u001b[0m\n\u001b[1;32m     82\u001b[0m \u001b[39m\u001b[39m\u001b[39m\"\"\"Plot hyperparameter importances.\u001b[39;00m\n\u001b[1;32m     83\u001b[0m \n\u001b[1;32m     84\u001b[0m \u001b[39mExample:\u001b[39;00m\n\u001b[0;32m   (...)\u001b[0m\n\u001b[1;32m    135\u001b[0m \u001b[39m    A :class:`plotly.graph_objs.Figure` object.\u001b[39;00m\n\u001b[1;32m    136\u001b[0m \u001b[39m\"\"\"\u001b[39;00m\n\u001b[1;32m    138\u001b[0m _imports\u001b[39m.\u001b[39mcheck()\n\u001b[0;32m--> 140\u001b[0m importances_info \u001b[39m=\u001b[39m _get_importances_info(study, evaluator, params, target, target_name)\n\u001b[1;32m    141\u001b[0m hover_template \u001b[39m=\u001b[39m _get_hover_template(importances_info, study)\n\u001b[1;32m    142\u001b[0m \u001b[39mreturn\u001b[39;00m _get_importances_plot(importances_info, hover_template)\n",
      "File \u001b[0;32m/mnt/wsl/Chomevincentdatalinuxhomevhd/user2/mambaforge-pypy3/envs/general/lib/python3.8/site-packages/optuna/visualization/_param_importances.py:57\u001b[0m, in \u001b[0;36m_get_importances_info\u001b[0;34m(study, evaluator, params, target, target_name)\u001b[0m\n\u001b[1;32m     49\u001b[0m     logger\u001b[39m.\u001b[39mwarning(\u001b[39m\"\u001b[39m\u001b[39mStudy instance does not contain completed trials.\u001b[39m\u001b[39m\"\u001b[39m)\n\u001b[1;32m     50\u001b[0m     \u001b[39mreturn\u001b[39;00m _ImportancesInfo(\n\u001b[1;32m     51\u001b[0m         importance_values\u001b[39m=\u001b[39m[],\n\u001b[1;32m     52\u001b[0m         param_names\u001b[39m=\u001b[39m[],\n\u001b[1;32m     53\u001b[0m         importance_labels\u001b[39m=\u001b[39m[],\n\u001b[1;32m     54\u001b[0m         target_name\u001b[39m=\u001b[39mtarget_name,\n\u001b[1;32m     55\u001b[0m     )\n\u001b[0;32m---> 57\u001b[0m importances \u001b[39m=\u001b[39m optuna\u001b[39m.\u001b[39;49mimportance\u001b[39m.\u001b[39;49mget_param_importances(\n\u001b[1;32m     58\u001b[0m     study, evaluator\u001b[39m=\u001b[39;49mevaluator, params\u001b[39m=\u001b[39;49mparams, target\u001b[39m=\u001b[39;49mtarget\n\u001b[1;32m     59\u001b[0m )\n\u001b[1;32m     61\u001b[0m importances \u001b[39m=\u001b[39m OrderedDict(\u001b[39mreversed\u001b[39m(\u001b[39mlist\u001b[39m(importances\u001b[39m.\u001b[39mitems())))\n\u001b[1;32m     62\u001b[0m importance_values \u001b[39m=\u001b[39m \u001b[39mlist\u001b[39m(importances\u001b[39m.\u001b[39mvalues())\n",
      "File \u001b[0;32m/mnt/wsl/Chomevincentdatalinuxhomevhd/user2/mambaforge-pypy3/envs/general/lib/python3.8/site-packages/optuna/importance/__init__.py:98\u001b[0m, in \u001b[0;36mget_param_importances\u001b[0;34m(study, evaluator, params, target, normalize)\u001b[0m\n\u001b[1;32m     32\u001b[0m \u001b[39m\u001b[39m\u001b[39m\"\"\"Evaluate parameter importances based on completed trials in the given study.\u001b[39;00m\n\u001b[1;32m     33\u001b[0m \n\u001b[1;32m     34\u001b[0m \u001b[39mThe parameter importances are returned as a dictionary where the keys consist of parameter\u001b[39;00m\n\u001b[0;32m   (...)\u001b[0m\n\u001b[1;32m     95\u001b[0m \n\u001b[1;32m     96\u001b[0m \u001b[39m\"\"\"\u001b[39;00m\n\u001b[1;32m     97\u001b[0m \u001b[39mif\u001b[39;00m evaluator \u001b[39mis\u001b[39;00m \u001b[39mNone\u001b[39;00m:\n\u001b[0;32m---> 98\u001b[0m     evaluator \u001b[39m=\u001b[39m FanovaImportanceEvaluator()\n\u001b[1;32m    100\u001b[0m \u001b[39mif\u001b[39;00m \u001b[39mnot\u001b[39;00m \u001b[39misinstance\u001b[39m(evaluator, BaseImportanceEvaluator):\n\u001b[1;32m    101\u001b[0m     \u001b[39mraise\u001b[39;00m \u001b[39mTypeError\u001b[39;00m(\u001b[39m\"\u001b[39m\u001b[39mEvaluator must be a subclass of BaseImportanceEvaluator.\u001b[39m\u001b[39m\"\u001b[39m)\n",
      "File \u001b[0;32m/mnt/wsl/Chomevincentdatalinuxhomevhd/user2/mambaforge-pypy3/envs/general/lib/python3.8/site-packages/optuna/importance/_fanova/_evaluator.py:71\u001b[0m, in \u001b[0;36mFanovaImportanceEvaluator.__init__\u001b[0;34m(self, n_trees, max_depth, seed)\u001b[0m\n\u001b[1;32m     68\u001b[0m \u001b[39mdef\u001b[39;00m \u001b[39m__init__\u001b[39m(\n\u001b[1;32m     69\u001b[0m     \u001b[39mself\u001b[39m, \u001b[39m*\u001b[39m, n_trees: \u001b[39mint\u001b[39m \u001b[39m=\u001b[39m \u001b[39m64\u001b[39m, max_depth: \u001b[39mint\u001b[39m \u001b[39m=\u001b[39m \u001b[39m64\u001b[39m, seed: Optional[\u001b[39mint\u001b[39m] \u001b[39m=\u001b[39m \u001b[39mNone\u001b[39;00m\n\u001b[1;32m     70\u001b[0m ) \u001b[39m-\u001b[39m\u001b[39m>\u001b[39m \u001b[39mNone\u001b[39;00m:\n\u001b[0;32m---> 71\u001b[0m     \u001b[39mself\u001b[39m\u001b[39m.\u001b[39m_evaluator \u001b[39m=\u001b[39m _Fanova(\n\u001b[1;32m     72\u001b[0m         n_trees\u001b[39m=\u001b[39;49mn_trees,\n\u001b[1;32m     73\u001b[0m         max_depth\u001b[39m=\u001b[39;49mmax_depth,\n\u001b[1;32m     74\u001b[0m         min_samples_split\u001b[39m=\u001b[39;49m\u001b[39m2\u001b[39;49m,\n\u001b[1;32m     75\u001b[0m         min_samples_leaf\u001b[39m=\u001b[39;49m\u001b[39m1\u001b[39;49m,\n\u001b[1;32m     76\u001b[0m         seed\u001b[39m=\u001b[39;49mseed,\n\u001b[1;32m     77\u001b[0m     )\n",
      "File \u001b[0;32m/mnt/wsl/Chomevincentdatalinuxhomevhd/user2/mambaforge-pypy3/envs/general/lib/python3.8/site-packages/optuna/importance/_fanova/_fanova.py:44\u001b[0m, in \u001b[0;36m_Fanova.__init__\u001b[0;34m(self, n_trees, max_depth, min_samples_split, min_samples_leaf, seed)\u001b[0m\n\u001b[1;32m     36\u001b[0m \u001b[39mdef\u001b[39;00m \u001b[39m__init__\u001b[39m(\n\u001b[1;32m     37\u001b[0m     \u001b[39mself\u001b[39m,\n\u001b[1;32m     38\u001b[0m     n_trees: \u001b[39mint\u001b[39m,\n\u001b[0;32m   (...)\u001b[0m\n\u001b[1;32m     42\u001b[0m     seed: Optional[\u001b[39mint\u001b[39m],\n\u001b[1;32m     43\u001b[0m ) \u001b[39m-\u001b[39m\u001b[39m>\u001b[39m \u001b[39mNone\u001b[39;00m:\n\u001b[0;32m---> 44\u001b[0m     _imports\u001b[39m.\u001b[39;49mcheck()\n\u001b[1;32m     46\u001b[0m     \u001b[39mself\u001b[39m\u001b[39m.\u001b[39m_forest \u001b[39m=\u001b[39m RandomForestRegressor(\n\u001b[1;32m     47\u001b[0m         n_estimators\u001b[39m=\u001b[39mn_trees,\n\u001b[1;32m     48\u001b[0m         max_depth\u001b[39m=\u001b[39mmax_depth,\n\u001b[0;32m   (...)\u001b[0m\n\u001b[1;32m     51\u001b[0m         random_state\u001b[39m=\u001b[39mseed,\n\u001b[1;32m     52\u001b[0m     )\n\u001b[1;32m     53\u001b[0m     \u001b[39mself\u001b[39m\u001b[39m.\u001b[39m_trees: Optional[List[_FanovaTree]] \u001b[39m=\u001b[39m \u001b[39mNone\u001b[39;00m\n",
      "File \u001b[0;32m/mnt/wsl/Chomevincentdatalinuxhomevhd/user2/mambaforge-pypy3/envs/general/lib/python3.8/site-packages/optuna/_imports.py:89\u001b[0m, in \u001b[0;36m_DeferredImportExceptionContextManager.check\u001b[0;34m(self)\u001b[0m\n\u001b[1;32m     87\u001b[0m \u001b[39mif\u001b[39;00m \u001b[39mself\u001b[39m\u001b[39m.\u001b[39m_deferred \u001b[39mis\u001b[39;00m \u001b[39mnot\u001b[39;00m \u001b[39mNone\u001b[39;00m:\n\u001b[1;32m     88\u001b[0m     exc_value, message \u001b[39m=\u001b[39m \u001b[39mself\u001b[39m\u001b[39m.\u001b[39m_deferred\n\u001b[0;32m---> 89\u001b[0m     \u001b[39mraise\u001b[39;00m \u001b[39mImportError\u001b[39;00m(message) \u001b[39mfrom\u001b[39;00m \u001b[39mexc_value\u001b[39;00m\n",
      "\u001b[0;31mImportError\u001b[0m: Tried to import 'sklearn' but failed. Please make sure that the package is installed correctly to use this feature. Actual error: No module named 'sklearn'."
     ]
    }
   ],
   "source": [
    "optuna.visualization.plot_param_importances(\n",
    "    study, target=lambda t: t.values[0], target_name=\"flops\"\n",
    ")"
   ]
  }
 ],
 "metadata": {
  "kernelspec": {
   "display_name": "Python 3",
   "language": "python",
   "name": "python3"
  },
  "language_info": {
   "codemirror_mode": {
    "name": "ipython",
    "version": 3
   },
   "file_extension": ".py",
   "mimetype": "text/x-python",
   "name": "python",
   "nbconvert_exporter": "python",
   "pygments_lexer": "ipython3",
   "version": "3.8.15"
  },
  "orig_nbformat": 4
 },
 "nbformat": 4,
 "nbformat_minor": 2
}
