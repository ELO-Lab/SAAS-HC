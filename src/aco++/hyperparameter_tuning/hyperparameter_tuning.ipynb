{
 "cells": [
  {
   "cell_type": "code",
   "execution_count": null,
   "metadata": {},
   "outputs": [],
   "source": [
    "from pathlib import Path\n",
    "import optuna\n",
    "import subprocess\n",
    "import pickle\n",
    "import numpy as np\n",
    "import pandas as pd"
   ]
  },
  {
   "cell_type": "code",
   "execution_count": null,
   "metadata": {},
   "outputs": [],
   "source": [
    "df = pd.read_csv(\"./gain_percent.csv\")\n",
    "df.info()"
   ]
  },
  {
   "cell_type": "code",
   "execution_count": null,
   "metadata": {},
   "outputs": [],
   "source": [
    "df.describe()"
   ]
  },
  {
   "cell_type": "code",
   "execution_count": null,
   "metadata": {},
   "outputs": [],
   "source": [
    "idx = np.arange(len(df.instance))"
   ]
  },
  {
   "cell_type": "code",
   "execution_count": null,
   "metadata": {},
   "outputs": [],
   "source": [
    "haha = np.random.choice(idx, p=df.prob)\n",
    "haha, df.loc[haha].instance"
   ]
  },
  {
   "cell_type": "code",
   "execution_count": null,
   "metadata": {},
   "outputs": [],
   "source": [
    "def random_choose_index():\n",
    "    global idx\n",
    "    return np.random.choice(idx, p=df.prob)"
   ]
  },
  {
   "cell_type": "code",
   "execution_count": null,
   "metadata": {},
   "outputs": [],
   "source": [
    "def run_command(command):\n",
    "    result = subprocess.run(command, capture_output=True)\n",
    "    assert (\n",
    "        result.returncode == 0\n",
    "    ), f\"\"\"\n",
    "command:\n",
    "{' '.join(command)}\n",
    "returncode: {result.returncode}\n",
    "stderr:\n",
    "{result.stderr.decode()}\n",
    "stdout:\n",
    "{result.stdout.decode()}\n",
    "\"\"\"\n",
    "    return result"
   ]
  },
  {
   "cell_type": "code",
   "execution_count": null,
   "metadata": {},
   "outputs": [],
   "source": [
    "def run_a_instance(mean_arr, std_arr, rho_arr, indv_ants_arr):\n",
    "    global debug_mode, debug_time, acopp_dir, df\n",
    "\n",
    "    df_idx = random_choose_index()\n",
    "    instance_name = df.loc[df_idx].instance\n",
    "    acopp_profit = df.loc[df_idx].acopp_profit\n",
    "\n",
    "    command = [\n",
    "        'python3',\n",
    "        f'{acopp_dir}/run.py',\n",
    "        '--acopp_dir',\n",
    "        str(acopp_dir),\n",
    "        '--instance_name',\n",
    "        instance_name,\n",
    "        '--run_only',\n",
    "        '--experiment',\n",
    "        '--no_log',\n",
    "        # '--sol_dir',\n",
    "        # '../../solutions/temp',\n",
    "        '--silent',\n",
    "        '1',\n",
    "        '--no_default',\n",
    "        \n",
    "        \"--adapt_evap\",\n",
    "        \"--cmaes\"\n",
    "        \"--mean_ary\",\n",
    "        mean_arr, \n",
    "        \"--std_ary\",\n",
    "        std_arr,\n",
    "        \"--adpt_rho\",\n",
    "        rho_arr, \n",
    "        \"--indv_ants\",\n",
    "        indv_ants_arr,\n",
    "    ]\n",
    "\n",
    "    if debug_mode:\n",
    "        command += [\"--time\", str(debug_time)]\n",
    "    \n",
    "    result = run_command(command)\n",
    "    stdout_log = result.stdout.decode()\n",
    "    profit = int(stdout_log)\n",
    "    \n",
    "    gain_percent = (profit - acopp_profit) / acopp_profit\n",
    "    return gain_percent"
   ]
  },
  {
   "cell_type": "code",
   "execution_count": null,
   "metadata": {},
   "outputs": [],
   "source": [
    "def objective(trial):\n",
    "    global n_run_each_trail\n",
    "\n",
    "    indv_ants = trial.suggest_int(\"indv_ants\", 2, 50)\n",
    "    min_indv_ants = trial.suggest_int(\"min_indv_ants\", 2, indv_ants)\n",
    "    max_indv_ants = trial.suggest_int(\"max_indv_ants\", indv_ants, 50)\n",
    "\n",
    "    rho = trial.suggest_float(\"rho\", 0.01, 0.99)\n",
    "    min_rho = trial.suggest_float(\"min_rho\", 0.01, rho)\n",
    "    max_rho = trial.suggest_float(\"max_rho\", rho, 0.99)\n",
    "\n",
    "    alpha_mean = trial.suggest_float(\"alpha_mean\", 0.01, 10)\n",
    "    # mean + 3*std <= upper_bound       <=> std <= (upper_bound - mean) / 3\n",
    "    # mean - 3*std >= lower_bound       <=> std <= (mean - lower_bound) / 3\n",
    "    std_upper_bound = min((10 - alpha_mean), (alpha_mean - 0.01)) / 3\n",
    "    alpha_std = trial.suggest_float(\"alpha_std\", 0.01, std_upper_bound)\n",
    "\n",
    "    beta_mean = trial.suggest_float(\"beta_mean\", 0.01, 10)\n",
    "    std_upper_bound = min((10 - beta_mean), (beta_mean - 0.01)) / 3\n",
    "    beta_std = trial.suggest_float(\"beta_std\", 0.01, std_upper_bound)\n",
    "\n",
    "    par_a_mean = trial.suggest_float(\"par_a_mean\", 0.01, 1)\n",
    "    std_upper_bound = min((1 - par_a_mean), (par_a_mean - 0.01)) / 3\n",
    "    par_a_std = trial.suggest_float(\"par_a_std\", 0.01, std_upper_bound)\n",
    "\n",
    "    par_b_mean = trial.suggest_float(\"par_b_mean\", 0.01, 1)\n",
    "    std_upper_bound = min((1 - par_b_mean), (par_b_mean - 0.01)) / 3\n",
    "    par_b_std = trial.suggest_float(\"par_b_std\", 0.01, std_upper_bound)\n",
    "\n",
    "    par_c_mean = trial.suggest_float(\"par_c_mean\", 0.01, 1)\n",
    "    std_upper_bound = min((1 - par_c_mean), (par_c_mean - 0.01)) / 3\n",
    "    par_c_std = trial.suggest_float(\"par_c_std\", 0.01, std_upper_bound)\n",
    "\n",
    "    mean_arr = \":\".join(alpha_mean, beta_mean, par_a_mean, par_b_mean, par_c_mean)\n",
    "    std_arr = \":\".join(alpha_std, beta_std, par_a_std, par_b_std, par_c_std)\n",
    "    rho_arr = \":\".join(rho, min_rho, max_rho)\n",
    "    indv_ants_arr = \":\".join(indv_ants, min_indv_ants, max_indv_ants)\n",
    "\n",
    "    objective_value = 0\n",
    "    for i in range(n_run_each_trail):\n",
    "        objective_value += run_a_instance(mean_arr, std_arr, rho_arr, indv_ants_arr) / n_run_each_trail\n",
    "\n",
    "    return objective_value"
   ]
  },
  {
   "cell_type": "code",
   "execution_count": null,
   "metadata": {},
   "outputs": [],
   "source": [
    "# debug_mode = False\n",
    "debug_mode = True\n",
    "debug_time = 10\n",
    "acopp_dir = Path(\"../\")\n",
    "n_trials = 1000\n",
    "n_jobs = 3\n",
    "if debug_mode:\n",
    "    n_trials = 2\n",
    "    n_jobs = 2\n",
    "save_path = Path(\"./study.pkl\")\n",
    "sampler = optuna.samplers.TPESampler()\n",
    "n_run_each_trail = 3\n",
    "idx = np.arange(len(df.instance))"
   ]
  },
  {
   "cell_type": "code",
   "execution_count": null,
   "metadata": {},
   "outputs": [],
   "source": [
    "command = [\n",
    "    'python3',\n",
    "    f'{acopp_dir}/run.py',\n",
    "    '--acopp_dir',\n",
    "    str(acopp_dir),\n",
    "    '--build_only',\n",
    "    '--experiment'\n",
    "    ]\n",
    "result = run_command(command)\n",
    "print(result.stdout.decode())"
   ]
  },
  {
   "cell_type": "code",
   "execution_count": null,
   "metadata": {},
   "outputs": [],
   "source": [
    "study = optuna.create_study(direction='maximize', sampler=sampler)\n",
    "study.optimize(objective, n_trials=n_trials, n_jobs=n_jobs)"
   ]
  },
  {
   "cell_type": "code",
   "execution_count": null,
   "metadata": {},
   "outputs": [],
   "source": [
    "with open(save_path, \"wb\") as f:\n",
    "    pickle.dump(study, f)"
   ]
  }
 ],
 "metadata": {
  "kernelspec": {
   "display_name": "Python 3",
   "language": "python",
   "name": "python3"
  },
  "language_info": {
   "codemirror_mode": {
    "name": "ipython",
    "version": 3
   },
   "file_extension": ".py",
   "mimetype": "text/x-python",
   "name": "python",
   "nbconvert_exporter": "python",
   "pygments_lexer": "ipython3",
   "version": "3.8.16"
  },
  "orig_nbformat": 4
 },
 "nbformat": 4,
 "nbformat_minor": 2
}
