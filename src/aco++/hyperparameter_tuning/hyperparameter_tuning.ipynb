{
 "cells": [
  {
   "cell_type": "code",
   "execution_count": 1,
   "metadata": {},
   "outputs": [],
   "source": [
    "# Function"
   ]
  },
  {
   "cell_type": "code",
   "execution_count": 2,
   "metadata": {},
   "outputs": [],
   "source": [
    "from pathlib import Path\n",
    "import optuna\n",
    "import subprocess\n",
    "import pickle\n",
    "import numpy as np\n",
    "import pandas as pd\n",
    "import time\n",
    "import multiprocessing"
   ]
  },
  {
   "cell_type": "code",
   "execution_count": 3,
   "metadata": {},
   "outputs": [],
   "source": [
    "def random_choose_index():\n",
    "    global idx, df\n",
    "    return np.random.choice(idx, p=df.prob)"
   ]
  },
  {
   "cell_type": "code",
   "execution_count": 4,
   "metadata": {},
   "outputs": [],
   "source": [
    "def run_command(command):\n",
    "    result = subprocess.run(command, capture_output=True)\n",
    "    assert (\n",
    "        result.returncode == 0\n",
    "    ), f\"\"\"\n",
    "command:\n",
    "{' '.join(command)}\n",
    "returncode: {result.returncode}\n",
    "stderr:\n",
    "{result.stderr.decode()}\n",
    "stdout:\n",
    "{result.stdout.decode()}\n",
    "\"\"\"\n",
    "    return result"
   ]
  },
  {
   "cell_type": "code",
   "execution_count": 5,
   "metadata": {},
   "outputs": [],
   "source": [
    "def run_a_instance(mean_arr, std_arr, rho_arr, indv_ants_arr, pop_size):\n",
    "    global debug_mode, debug_time, acopp_dir, df, sol_dir, postfix\n",
    "\n",
    "    df_idx = random_choose_index()\n",
    "    instance_name = df.loc[df_idx].instance\n",
    "    acopp_profit = df.loc[df_idx].acopp_profit\n",
    "\n",
    "    command = [\n",
    "        'python3',\n",
    "        f'{acopp_dir}/run.py',\n",
    "        '--acopp_dir',\n",
    "        str(acopp_dir),\n",
    "        '--instance_name',\n",
    "        instance_name,\n",
    "        '--run_only',\n",
    "        '--experiment',\n",
    "        # '--no_log',\n",
    "        '--sol_dir',\n",
    "        str(sol_dir),\n",
    "        '--silent',\n",
    "        '1',\n",
    "        \"--postfix\",\n",
    "        str(postfix),\n",
    "        \n",
    "        '--no_default',\n",
    "        \"--chain_flags\",\n",
    "        f\"--lambda {pop_size} --adapt_evap --cmaes --mean_ary {mean_arr} --std_ary {std_arr} --adpt_rho {rho_arr} --indv_ants {indv_ants_arr}\",\n",
    "    ]\n",
    "\n",
    "    if debug_mode:\n",
    "        command += [\"--time\", str(debug_time)]\n",
    "    \n",
    "    result = run_command(command)\n",
    "    stdout_log = result.stdout.decode()\n",
    "    profit = int(stdout_log)\n",
    "    \n",
    "    gain_percent = (profit - acopp_profit) / acopp_profit * 100\n",
    "    return gain_percent"
   ]
  },
  {
   "cell_type": "code",
   "execution_count": 6,
   "metadata": {},
   "outputs": [],
   "source": [
    "def to_arr_flag(a_list):\n",
    "    arr_flag = map(str, a_list)\n",
    "    arr_flag = \":\".join(arr_flag)\n",
    "    return arr_flag"
   ]
  },
  {
   "cell_type": "code",
   "execution_count": 7,
   "metadata": {},
   "outputs": [],
   "source": [
    "def objective(trial):\n",
    "    global n_run_each_trail\n",
    "\n",
    "    pop_size = trial.suggest_int(\"pop_size\", 8, 15)\n",
    "\n",
    "    indv_ants = trial.suggest_int(\"indv_ants\", 2, 15)\n",
    "    min_indv_ants = trial.suggest_int(\"min_indv_ants\", 2, 55)\n",
    "    max_indv_ants = trial.suggest_int(\"max_indv_ants\", min_indv_ants, 55)\n",
    "\n",
    "    rho = trial.suggest_float(\"rho\", 0.10, 0.94)\n",
    "    min_rho = trial.suggest_float(\"min_rho\", 0.01, 0.99)\n",
    "    max_rho = trial.suggest_float(\"max_rho\", min_rho, 0.99)\n",
    "\n",
    "    # mean + k*std <= upper_bound       <=> std <= (upper_bound - mean) / k\n",
    "    # mean - k*std >= lower_bound       <=> std <= (mean - lower_bound) / k\n",
    "    # std_upper_bound = min((10 - alpha_mean), (alpha_mean - 0.01))\n",
    "    # std_upper_bound = max(std_upper_bound, 0.01)\n",
    "    # std_upper_bound = 10 - 0.01\n",
    "    # std_upper_bound = max((1 - par_a_mean), (par_a_mean - 0.01)) / 2\n",
    "\n",
    "    alpha_mean = trial.suggest_float(\"alpha_mean\", 0.66, 8.33)\n",
    "    std_upper_bound = (8.33 - 0.66) / 2\n",
    "    alpha_std = trial.suggest_float(\"alpha_std\", 0.01, std_upper_bound)\n",
    "\n",
    "    beta_mean = trial.suggest_float(\"beta_mean\", alpha_mean, 9.18)\n",
    "    std_upper_bound = (9.18 - 0.01) / 2\n",
    "    beta_std = trial.suggest_float(\"beta_std\", 0.01, std_upper_bound)\n",
    "\n",
    "    par_a_mean = trial.suggest_float(\"par_a_mean\", 0.01, 1)\n",
    "    std_upper_bound = (1 - 0.01) / 2\n",
    "    par_a_std = trial.suggest_float(\"par_a_std\", 0.01, std_upper_bound)\n",
    "\n",
    "    par_b_mean = trial.suggest_float(\"par_b_mean\", 0.01, 1)\n",
    "    std_upper_bound = (1 - 0.01) / 2\n",
    "    par_b_std = trial.suggest_float(\"par_b_std\", 0.01, std_upper_bound)\n",
    "\n",
    "    par_c_mean = trial.suggest_float(\"par_c_mean\", 0.01, 1)\n",
    "    std_upper_bound = (1 - 0.01) / 2\n",
    "    par_c_std = trial.suggest_float(\"par_c_std\", 0.01, std_upper_bound)\n",
    "\n",
    "    mean_arr = to_arr_flag([alpha_mean, beta_mean, par_a_mean, par_b_mean, par_c_mean])\n",
    "    std_arr = to_arr_flag([alpha_std, beta_std, par_a_std, par_b_std, par_c_std])\n",
    "    rho_arr = to_arr_flag([rho, min_rho, max_rho])\n",
    "    indv_ants_arr = to_arr_flag([indv_ants, min_indv_ants, max_indv_ants])\n",
    "\n",
    "    objective_value = 0\n",
    "    for i in range(n_run_each_trail):\n",
    "        objective_value += run_a_instance(mean_arr, std_arr, rho_arr, indv_ants_arr, pop_size) / n_run_each_trail\n",
    "\n",
    "    return objective_value"
   ]
  },
  {
   "cell_type": "markdown",
   "metadata": {},
   "source": [
    "# load dataframe"
   ]
  },
  {
   "cell_type": "code",
   "execution_count": 8,
   "metadata": {},
   "outputs": [
    {
     "name": "stdout",
     "output_type": "stream",
     "text": [
      "<class 'pandas.core.frame.DataFrame'>\n",
      "RangeIndex: 432 entries, 0 to 431\n",
      "Data columns (total 4 columns):\n",
      " #   Column        Non-Null Count  Dtype  \n",
      "---  ------        --------------  -----  \n",
      " 0   instance      432 non-null    object \n",
      " 1   gain_percent  432 non-null    float64\n",
      " 2   prob          432 non-null    float64\n",
      " 3   acopp_profit  432 non-null    float64\n",
      "dtypes: float64(3), object(1)\n",
      "memory usage: 13.6+ KB\n"
     ]
    }
   ],
   "source": [
    "df = pd.read_csv(\"./es_ant_gain_percent.csv\")\n",
    "df.info()"
   ]
  },
  {
   "cell_type": "code",
   "execution_count": 9,
   "metadata": {},
   "outputs": [
    {
     "data": {
      "text/html": [
       "<div>\n",
       "<style scoped>\n",
       "    .dataframe tbody tr th:only-of-type {\n",
       "        vertical-align: middle;\n",
       "    }\n",
       "\n",
       "    .dataframe tbody tr th {\n",
       "        vertical-align: top;\n",
       "    }\n",
       "\n",
       "    .dataframe thead th {\n",
       "        text-align: right;\n",
       "    }\n",
       "</style>\n",
       "<table border=\"1\" class=\"dataframe\">\n",
       "  <thead>\n",
       "    <tr style=\"text-align: right;\">\n",
       "      <th></th>\n",
       "      <th>gain_percent</th>\n",
       "      <th>prob</th>\n",
       "      <th>acopp_profit</th>\n",
       "    </tr>\n",
       "  </thead>\n",
       "  <tbody>\n",
       "    <tr>\n",
       "      <th>count</th>\n",
       "      <td>432.000000</td>\n",
       "      <td>432.000000</td>\n",
       "      <td>4.320000e+02</td>\n",
       "    </tr>\n",
       "    <tr>\n",
       "      <th>mean</th>\n",
       "      <td>-0.672013</td>\n",
       "      <td>0.002315</td>\n",
       "      <td>5.874562e+05</td>\n",
       "    </tr>\n",
       "    <tr>\n",
       "      <th>std</th>\n",
       "      <td>1.388989</td>\n",
       "      <td>0.000660</td>\n",
       "      <td>1.127111e+06</td>\n",
       "    </tr>\n",
       "    <tr>\n",
       "      <th>min</th>\n",
       "      <td>-7.434470</td>\n",
       "      <td>0.000000</td>\n",
       "      <td>2.425000e+03</td>\n",
       "    </tr>\n",
       "    <tr>\n",
       "      <th>25%</th>\n",
       "      <td>-1.303017</td>\n",
       "      <td>0.001963</td>\n",
       "      <td>6.249112e+04</td>\n",
       "    </tr>\n",
       "    <tr>\n",
       "      <th>50%</th>\n",
       "      <td>-0.368650</td>\n",
       "      <td>0.002171</td>\n",
       "      <td>1.720225e+05</td>\n",
       "    </tr>\n",
       "    <tr>\n",
       "      <th>75%</th>\n",
       "      <td>0.067930</td>\n",
       "      <td>0.002615</td>\n",
       "      <td>5.387015e+05</td>\n",
       "    </tr>\n",
       "    <tr>\n",
       "      <th>max</th>\n",
       "      <td>4.201110</td>\n",
       "      <td>0.005527</td>\n",
       "      <td>9.760000e+06</td>\n",
       "    </tr>\n",
       "  </tbody>\n",
       "</table>\n",
       "</div>"
      ],
      "text/plain": [
       "       gain_percent        prob  acopp_profit\n",
       "count    432.000000  432.000000  4.320000e+02\n",
       "mean      -0.672013    0.002315  5.874562e+05\n",
       "std        1.388989    0.000660  1.127111e+06\n",
       "min       -7.434470    0.000000  2.425000e+03\n",
       "25%       -1.303017    0.001963  6.249112e+04\n",
       "50%       -0.368650    0.002171  1.720225e+05\n",
       "75%        0.067930    0.002615  5.387015e+05\n",
       "max        4.201110    0.005527  9.760000e+06"
      ]
     },
     "execution_count": 9,
     "metadata": {},
     "output_type": "execute_result"
    }
   ],
   "source": [
    "df.describe()"
   ]
  },
  {
   "cell_type": "code",
   "execution_count": 10,
   "metadata": {},
   "outputs": [],
   "source": [
    "idx = np.arange(len(df.instance))"
   ]
  },
  {
   "cell_type": "code",
   "execution_count": 11,
   "metadata": {},
   "outputs": [
    {
     "data": {
      "text/plain": [
       "(273, 'eil51_05_usw_05_03')"
      ]
     },
     "execution_count": 11,
     "metadata": {},
     "output_type": "execute_result"
    }
   ],
   "source": [
    "haha = np.random.choice(idx, p=df.prob)\n",
    "haha, df.loc[haha].instance"
   ]
  },
  {
   "cell_type": "markdown",
   "metadata": {},
   "source": [
    "# Config"
   ]
  },
  {
   "cell_type": "code",
   "execution_count": 12,
   "metadata": {},
   "outputs": [
    {
     "name": "stdout",
     "output_type": "stream",
     "text": [
      "3\n"
     ]
    }
   ],
   "source": [
    "acopp_dir = Path(\"../\")\n",
    "save_path = Path(\"./study.pkl\")\n",
    "sol_dir = Path(\"./solutions\")\n",
    "postfix = str(time.time())\n",
    "\n",
    "# total_trial = 1000\n",
    "total_trial = 100\n",
    "n_jobs = max(1, multiprocessing.cpu_count() // 2)\n",
    "# n_run_each_trail = 5\n",
    "n_run_each_trail = 3\n",
    "save_each_n_trial = n_jobs\n",
    "\n",
    "sampler = optuna.samplers.TPESampler()\n",
    "idx = np.arange(len(df.instance))\n",
    "\n",
    "debug_mode = False\n",
    "# debug_mode = True\n",
    "debug_time = 10\n",
    "if debug_mode:\n",
    "    n_jobs = 2\n",
    "    n_run_each_trail = n_jobs\n",
    "    total_trial = n_run_each_trail + 1\n",
    "    save_each_n_trial = n_jobs\n",
    "\n",
    "print(n_jobs)"
   ]
  },
  {
   "cell_type": "markdown",
   "metadata": {},
   "source": [
    "# Build"
   ]
  },
  {
   "cell_type": "code",
   "execution_count": 13,
   "metadata": {},
   "outputs": [
    {
     "name": "stdout",
     "output_type": "stream",
     "text": [
      "$ cmake -DCMAKE_EXPORT_COMPILE_COMMANDS:BOOL=TRUE -G Unix Makefiles -S.. -B../temp_build_experiment -DCMAKE_BUILD_TYPE:STRING=Release\n",
      "-- Configuring done\n",
      "-- Generating done\n",
      "-- Build files have been written to: /mnt/c/home/vincent/data/mega/Projects/Work/Public/acoplusplus_thop_modified/src/aco++/temp_build_experiment\n",
      "\n",
      "$ cmake --build ../temp_build_experiment -j 3\n",
      "\u001b[35m\u001b[1mConsolidate compiler generated dependencies of target acothop\u001b[0m\n",
      "[100%] Built target acothop\n",
      "\n",
      "\n"
     ]
    }
   ],
   "source": [
    "command = [\n",
    "    'python3',\n",
    "    f'{acopp_dir}/run.py',\n",
    "    '--acopp_dir',\n",
    "    str(acopp_dir),\n",
    "    '--build_only',\n",
    "    '--experiment'\n",
    "    ]\n",
    "result = run_command(command)\n",
    "print(result.stdout.decode())"
   ]
  },
  {
   "cell_type": "markdown",
   "metadata": {},
   "source": [
    "# Run"
   ]
  },
  {
   "cell_type": "code",
   "execution_count": 14,
   "metadata": {},
   "outputs": [
    {
     "name": "stderr",
     "output_type": "stream",
     "text": [
      "[I 2023-07-13 20:28:57,777] A new study created in memory with name: no-name-f5b661aa-00aa-4fb4-b86a-bc0775328492\n"
     ]
    }
   ],
   "source": [
    "# study = optuna.create_study(direction='maximize', sampler=sampler)\n",
    "# with open(save_path, \"wb\") as f:\n",
    "#     pickle.dump(study, f)"
   ]
  },
  {
   "cell_type": "code",
   "execution_count": 15,
   "metadata": {},
   "outputs": [
    {
     "name": "stderr",
     "output_type": "stream",
     "text": [
      "[I 2023-07-13 20:32:40,871] Trial 0 finished with value: -1.5431245127407178 and parameters: {'pop_size': 11, 'indv_ants': 2, 'min_indv_ants': 48, 'max_indv_ants': 56, 'rho': 0.6142195119925761, 'min_rho': 0.7363846658464949, 'max_rho': 0.9481753889629171, 'alpha_mean': 7.301432212766309, 'alpha_std': 1.03438225609394, 'beta_mean': 3.984702751352588, 'beta_std': 1.9306772298578998, 'par_a_mean': 0.38196501818207623, 'par_a_std': 0.19973113713136129, 'par_b_mean': 0.7929805148870757, 'par_b_std': 0.1876500084800389, 'par_c_mean': 0.17144947681873618, 'par_c_std': 0.07702412980970312}. Best is trial 0 with value: -1.5431245127407178.\n",
      "[I 2023-07-13 20:33:12,210] Trial 2 finished with value: 0.4900116244079389 and parameters: {'pop_size': 10, 'indv_ants': 14, 'min_indv_ants': 10, 'max_indv_ants': 60, 'rho': 0.9841594461906779, 'min_rho': 0.2294586462331992, 'max_rho': 0.4691075275731784, 'alpha_mean': 4.374296316995067, 'alpha_std': 1.5865252331092223, 'beta_mean': 2.173704646337296, 'beta_std': 0.8166878579443503, 'par_a_mean': 0.6851837703926309, 'par_a_std': 0.1690442256335318, 'par_b_mean': 0.7030292249823505, 'par_b_std': 0.091272478947789, 'par_c_mean': 0.796232855769848, 'par_c_std': 0.32752471870361893}. Best is trial 2 with value: 0.4900116244079389.\n",
      "[I 2023-07-13 20:37:22,366] Trial 1 finished with value: -2.0095037571259313 and parameters: {'pop_size': 9, 'indv_ants': 12, 'min_indv_ants': 42, 'max_indv_ants': 55, 'rho': 0.47389306464565056, 'min_rho': 0.7690305129253504, 'max_rho': 0.9489210969660861, 'alpha_mean': 8.202844055720862, 'alpha_std': 2.4990895808360967, 'beta_mean': 2.9868454102442206, 'beta_std': 3.1450561956637717, 'par_a_mean': 0.9318391765619991, 'par_a_std': 0.06516427215324083, 'par_b_mean': 0.9946500720054807, 'par_b_std': 0.07129370973397821, 'par_c_mean': 0.8492607047002465, 'par_c_std': 0.3198592253220236}. Best is trial 2 with value: 0.4900116244079389.\n",
      "[I 2023-07-13 20:41:58,272] Trial 3 finished with value: -2.8292896891573016 and parameters: {'pop_size': 12, 'indv_ants': 4, 'min_indv_ants': 10, 'max_indv_ants': 35, 'rho': 0.7630154544549831, 'min_rho': 0.567999199941267, 'max_rho': 0.8969147559683643, 'alpha_mean': 7.454735713349094, 'alpha_std': 0.7041213245042447, 'beta_mean': 4.2563924450044155, 'beta_std': 1.027382772025427, 'par_a_mean': 0.020418060065369066, 'par_a_std': 0.30452135430789273, 'par_b_mean': 0.8174745563311132, 'par_b_std': 0.10801046645994875, 'par_c_mean': 0.7180836150788379, 'par_c_std': 0.34892330088230383}. Best is trial 2 with value: 0.4900116244079389.\n",
      "[I 2023-07-13 20:49:12,022] Trial 5 finished with value: -2.7748762570230037 and parameters: {'pop_size': 8, 'indv_ants': 13, 'min_indv_ants': 33, 'max_indv_ants': 42, 'rho': 0.7695284493880759, 'min_rho': 0.8198106527012914, 'max_rho': 0.8525790217603487, 'alpha_mean': 9.818586115325932, 'alpha_std': 1.0035654018009834, 'beta_mean': 7.161907270085397, 'beta_std': 2.9778878475409183, 'par_a_mean': 0.38458561977462674, 'par_a_std': 0.07973195783661002, 'par_b_mean': 0.03668897721126332, 'par_b_std': 0.1733200147931546, 'par_c_mean': 0.544404237309564, 'par_c_std': 0.09040549333031342}. Best is trial 2 with value: 0.4900116244079389.\n",
      "[I 2023-07-13 20:56:31,036] Trial 4 finished with value: -1.244859090201774 and parameters: {'pop_size': 18, 'indv_ants': 13, 'min_indv_ants': 4, 'max_indv_ants': 28, 'rho': 0.6926649011337751, 'min_rho': 0.7320166630267875, 'max_rho': 0.8483742058765524, 'alpha_mean': 9.35816105763058, 'alpha_std': 1.5501535029570004, 'beta_mean': 8.950214056823386, 'beta_std': 3.462542085667807, 'par_a_mean': 0.9756591015140487, 'par_a_std': 0.10228488788304752, 'par_b_mean': 0.09431562734725364, 'par_b_std': 0.14546372194997595, 'par_c_mean': 0.15482126942721436, 'par_c_std': 0.02394923914998593}. Best is trial 2 with value: 0.4900116244079389.\n",
      "[I 2023-07-13 20:59:01,139] Trial 7 finished with value: -2.4939177137834587 and parameters: {'pop_size': 20, 'indv_ants': 6, 'min_indv_ants': 23, 'max_indv_ants': 56, 'rho': 0.9140909017013396, 'min_rho': 0.3718786431201943, 'max_rho': 0.7775934708940713, 'alpha_mean': 4.855391547953589, 'alpha_std': 2.230042966388281, 'beta_mean': 2.7394765341400213, 'beta_std': 0.6415763176023084, 'par_a_mean': 0.6626291297130475, 'par_a_std': 0.22768604367015763, 'par_b_mean': 0.4611936983365405, 'par_b_std': 0.0847091946643918, 'par_c_mean': 0.9131837748590846, 'par_c_std': 0.1751835209417626}. Best is trial 2 with value: 0.4900116244079389.\n",
      "[I 2023-07-13 21:00:08,978] Trial 6 finished with value: -2.760434400436822 and parameters: {'pop_size': 11, 'indv_ants': 4, 'min_indv_ants': 42, 'max_indv_ants': 52, 'rho': 0.44186521664664874, 'min_rho': 0.16042368789443967, 'max_rho': 0.4571905464801391, 'alpha_mean': 3.8053632190433717, 'alpha_std': 1.345341374816426, 'beta_mean': 2.0033051438794516, 'beta_std': 0.33987557665150026, 'par_a_mean': 0.25142672613067835, 'par_a_std': 0.28621375223221507, 'par_b_mean': 0.10128031209388165, 'par_b_std': 0.35570261757938926, 'par_c_mean': 0.3238222879204696, 'par_c_std': 0.06265327456565455}. Best is trial 2 with value: 0.4900116244079389.\n",
      "[I 2023-07-13 21:03:30,837] Trial 8 finished with value: -0.46220653686900026 and parameters: {'pop_size': 19, 'indv_ants': 9, 'min_indv_ants': 52, 'max_indv_ants': 60, 'rho': 0.7279319837874295, 'min_rho': 0.8215929255757952, 'max_rho': 0.9642958534643176, 'alpha_mean': 9.184954314648564, 'alpha_std': 1.5559039969546826, 'beta_mean': 1.6649990036133142, 'beta_std': 3.164567392297963, 'par_a_mean': 0.31424666062209505, 'par_a_std': 0.16195568369727048, 'par_b_mean': 0.3069903252502151, 'par_b_std': 0.33427259583235663, 'par_c_mean': 0.1648488570797708, 'par_c_std': 0.270455511432261}. Best is trial 2 with value: 0.4900116244079389.\n",
      "[I 2023-07-13 21:06:59,058] Trial 9 finished with value: -0.9719937265962512 and parameters: {'pop_size': 20, 'indv_ants': 13, 'min_indv_ants': 13, 'max_indv_ants': 48, 'rho': 0.07283500841753358, 'min_rho': 0.9015976183598401, 'max_rho': 0.9766933565694159, 'alpha_mean': 3.482729907191692, 'alpha_std': 0.8227280389222912, 'beta_mean': 4.264630938872946, 'beta_std': 0.10255417356716699, 'par_a_mean': 0.8700707644706521, 'par_a_std': 0.11085605549556785, 'par_b_mean': 0.8474230790003058, 'par_b_std': 0.31898308653104895, 'par_c_mean': 0.3589134990152368, 'par_c_std': 0.027012061541684666}. Best is trial 2 with value: 0.4900116244079389.\n",
      "[I 2023-07-13 21:08:47,284] Trial 11 finished with value: -1.8197536727700878 and parameters: {'pop_size': 11, 'indv_ants': 9, 'min_indv_ants': 39, 'max_indv_ants': 56, 'rho': 0.8856986996420462, 'min_rho': 0.5990058220678146, 'max_rho': 0.7807550633576793, 'alpha_mean': 4.189219101810631, 'alpha_std': 1.9180418217541264, 'beta_mean': 7.70298756192048, 'beta_std': 0.9015790837156797, 'par_a_mean': 0.6963763109751306, 'par_a_std': 0.218698503927278, 'par_b_mean': 0.12847387155212786, 'par_b_std': 0.052479088317857574, 'par_c_mean': 0.16050467463649565, 'par_c_std': 0.3530448320159257}. Best is trial 2 with value: 0.4900116244079389.\n",
      "[I 2023-07-13 21:27:14,459] Trial 10 finished with value: -0.11023003739675805 and parameters: {'pop_size': 15, 'indv_ants': 13, 'min_indv_ants': 32, 'max_indv_ants': 32, 'rho': 0.6236221082951278, 'min_rho': 0.9737261401997268, 'max_rho': 0.9885119303806199, 'alpha_mean': 8.576064075023677, 'alpha_std': 2.9025801439905186, 'beta_mean': 1.523065656102404, 'beta_std': 3.719907832262527, 'par_a_mean': 0.9547512045390092, 'par_a_std': 0.16553516995701056, 'par_b_mean': 0.9173098657348902, 'par_b_std': 0.04481312624754296, 'par_c_mean': 0.3428529299939261, 'par_c_std': 0.29788191628714905}. Best is trial 2 with value: 0.4900116244079389.\n",
      "[I 2023-07-13 21:28:06,894] Trial 13 finished with value: -2.5249269741617297 and parameters: {'pop_size': 16, 'indv_ants': 18, 'min_indv_ants': 23, 'max_indv_ants': 23, 'rho': 0.9806452469913384, 'min_rho': 0.3712525502463514, 'max_rho': 0.5940061625689699, 'alpha_mean': 1.288885208095218, 'alpha_std': 3.3219060522677926, 'beta_mean': 0.03599531314327331, 'beta_std': 4.496684190865046, 'par_a_mean': 0.7628687584962903, 'par_a_std': 0.37156332480586185, 'par_b_mean': 0.6567727318669239, 'par_b_std': 0.012283640238398202, 'par_c_mean': 0.6210845923355619, 'par_c_std': 0.24721338784377}. Best is trial 2 with value: 0.4900116244079389.\n",
      "[I 2023-07-13 21:29:56,504] Trial 12 finished with value: -1.8764375162190172 and parameters: {'pop_size': 16, 'indv_ants': 18, 'min_indv_ants': 26, 'max_indv_ants': 40, 'rho': 0.9810603602665644, 'min_rho': 0.02420836851977559, 'max_rho': 0.2871978713881417, 'alpha_mean': 1.7977401110272373, 'alpha_std': 3.1346768625250254, 'beta_mean': 0.30868464615226854, 'beta_std': 2.0175716695538917, 'par_a_mean': 0.7645709188322768, 'par_a_std': 0.02346826829921722, 'par_b_mean': 0.6367860085477157, 'par_b_std': 0.024002926588115103, 'par_c_mean': 0.9952273886728373, 'par_c_std': 0.4511156259768204}. Best is trial 2 with value: 0.4900116244079389.\n",
      "[I 2023-07-13 21:37:06,310] Trial 14 finished with value: -3.8330295963769156 and parameters: {'pop_size': 16, 'indv_ants': 18, 'min_indv_ants': 24, 'max_indv_ants': 24, 'rho': 0.9704233741804693, 'min_rho': 0.36624259449611013, 'max_rho': 0.5782294812690855, 'alpha_mean': 1.7250308821065552, 'alpha_std': 3.3773810073542405, 'beta_mean': 0.014315103604137125, 'beta_std': 4.652747815050338, 'par_a_mean': 0.770368106070343, 'par_a_std': 0.14412146996014644, 'par_b_mean': 0.6481804095047321, 'par_b_std': 0.016256724551803367, 'par_c_mean': 0.6254161054214834, 'par_c_std': 0.2541629348131771}. Best is trial 2 with value: 0.4900116244079389.\n",
      "/mnt/wsl/Chomevincentdatalinuxhomevhd/user2/mambaforge-pypy3/envs/general/lib/python3.8/site-packages/optuna/samplers/_tpe/sampler.py:490: RuntimeWarning: invalid value encountered in subtract\n",
      "  score = log_l - log_g\n",
      "[I 2023-07-13 21:38:33,842] Trial 16 finished with value: -4.0626783311193915 and parameters: {'pop_size': 14, 'indv_ants': 15, 'min_indv_ants': 14, 'max_indv_ants': 17, 'rho': 0.5640030835602798, 'min_rho': 0.984927027174564, 'max_rho': -0.038189754970416656, 'alpha_mean': 6.020293693205614, 'alpha_std': 0.13329435453415628, 'beta_mean': 5.698743349513062, 'beta_std': 1.2319542178699847, 'par_a_mean': 0.5978447906249763, 'par_a_std': 0.15014558539758932, 'par_b_mean': 0.9354884130899924, 'par_b_std': 0.23167705470024588, 'par_c_mean': 0.40874366846721427, 'par_c_std': 0.1453063836291161}. Best is trial 2 with value: 0.4900116244079389.\n",
      "[I 2023-07-13 21:41:46,619] Trial 17 finished with value: -2.000393305750448 and parameters: {'pop_size': 14, 'indv_ants': 15, 'min_indv_ants': 60, 'max_indv_ants': 60, 'rho': 0.5797949338034389, 'min_rho': 0.9545845737879182, 'max_rho': 0.9896140828278688, 'alpha_mean': 6.094699471665592, 'alpha_std': 0.331815129988952, 'beta_mean': 5.6734324384916395, 'beta_std': 1.3294696130270114, 'par_a_mean': 0.5881526616137799, 'par_a_std': 0.13815356606864956, 'par_b_mean': 0.9946776311002732, 'par_b_std': 0.2395138524157086, 'par_c_mean': 0.4276099749987037, 'par_c_std': 0.15429808567756007}. Best is trial 2 with value: 0.4900116244079389.\n",
      "[I 2023-07-13 21:46:16,369] Trial 15 finished with value: -3.0659063460863836 and parameters: {'pop_size': 14, 'indv_ants': 15, 'min_indv_ants': 14, 'max_indv_ants': 17, 'rho': 0.561489809313556, 'min_rho': 0.975271080007617, 'max_rho': 0.9899659745670002, 'alpha_mean': 6.373988680257472, 'alpha_std': 0.11909957944957394, 'beta_mean': 5.875746961463685, 'beta_std': 1.4010896189539572, 'par_a_mean': 0.5551489207637605, 'par_a_std': 0.16720014751874435, 'par_b_mean': 0.9052123602335577, 'par_b_std': 0.12155903520646666, 'par_c_mean': 0.48307919883128403, 'par_c_std': 0.1329275480479235}. Best is trial 2 with value: 0.4900116244079389.\n",
      "[I 2023-07-13 21:47:46,668] Trial 20 finished with value: -2.1084497511748417 and parameters: {'pop_size': 13, 'indv_ants': 20, 'min_indv_ants': 31, 'max_indv_ants': 47, 'rho': 0.8640132606183817, 'min_rho': 0.6421941002904586, 'max_rho': 0.9178013470320633, 'alpha_mean': 2.9271010543977387, 'alpha_std': 2.7726921895729135, 'beta_mean': 1.33707757112125, 'beta_std': 2.3404727580336697, 'par_a_mean': 0.9974455992737534, 'par_a_std': 0.47176596699310624, 'par_b_mean': 0.7694604012224051, 'par_b_std': 0.06306134225006912, 'par_c_mean': 0.014039066594697613, 'par_c_std': 0.44452879186691724}. Best is trial 2 with value: 0.4900116244079389.\n",
      "[I 2023-07-13 21:49:27,367] Trial 19 finished with value: -1.7217428068678071 and parameters: {'pop_size': 13, 'indv_ants': 20, 'min_indv_ants': 33, 'max_indv_ants': 49, 'rho': 0.8308653070398968, 'min_rho': 0.4791042807332807, 'max_rho': 0.8972315651745483, 'alpha_mean': 2.9429817018424966, 'alpha_std': 2.9365551233204688, 'beta_mean': 1.5802836344310418, 'beta_std': 0.025432140692265737, 'par_a_mean': 0.8572911071015816, 'par_a_std': 0.26512716783855145, 'par_b_mean': 0.7394626054931447, 'par_b_std': 0.061769040122702734, 'par_c_mean': 0.021095770967667238, 'par_c_std': 0.4132324934131958}. Best is trial 2 with value: 0.4900116244079389.\n",
      "[I 2023-07-13 21:50:02,307] Trial 18 finished with value: -2.909282430021168 and parameters: {'pop_size': 9, 'indv_ants': 20, 'min_indv_ants': 30, 'max_indv_ants': 46, 'rho': 0.4408690416754978, 'min_rho': 0.6496359264560685, 'max_rho': 0.9194413221550019, 'alpha_mean': 2.7471447131282822, 'alpha_std': 2.7146169403254206, 'beta_mean': 1.833447283282799, 'beta_std': 2.2607327091863962, 'par_a_mean': 0.9915693304365537, 'par_a_std': 0.4599128854582133, 'par_b_mean': 0.7535969084146316, 'par_b_std': 0.05790365263988481, 'par_c_mean': 0.034587920529466853, 'par_c_std': 0.4247856154797852}. Best is trial 2 with value: 0.4900116244079389.\n",
      "[I 2023-07-13 21:52:55,714] Trial 21 finished with value: -5.671746115677465 and parameters: {'pop_size': 18, 'indv_ants': 9, 'min_indv_ants': 56, 'max_indv_ants': 60, 'rho': 0.7059517972158035, 'min_rho': 0.8628254235326587, 'max_rho': 0.9766816654061716, 'alpha_mean': 8.807476144497763, 'alpha_std': 4.365105769605295, 'beta_mean': 2.9851874106026175, 'beta_std': 1.6188232709548167, 'par_a_mean': 0.8662280731489236, 'par_a_std': 0.18526951211611364, 'par_b_mean': 0.4221603479568611, 'par_b_std': 0.12314257812041904, 'par_c_mean': 0.29660017466238026, 'par_c_std': 0.24149834294321582}. Best is trial 2 with value: 0.4900116244079389.\n",
      "[I 2023-07-13 22:07:07,134] Trial 22 finished with value: -1.540305257165623 and parameters: {'pop_size': 18, 'indv_ants': 10, 'min_indv_ants': 55, 'max_indv_ants': 60, 'rho': 0.7199915050776472, 'min_rho': 0.8567836359195541, 'max_rho': 0.9737849714814434, 'alpha_mean': 8.778209515063283, 'alpha_std': 4.0722895381752195, 'beta_mean': 2.7793511422452313, 'beta_std': 1.5091491890268613, 'par_a_mean': 0.45040691925202614, 'par_a_std': 0.17175930231183692, 'par_b_mean': 0.3993970037638104, 'par_b_std': 0.10138222561349139, 'par_c_mean': 0.2963180598251601, 'par_c_std': 0.24070702816813275}. Best is trial 2 with value: 0.4900116244079389.\n",
      "[I 2023-07-13 22:12:08,343] Trial 23 finished with value: -2.0907094803615642 and parameters: {'pop_size': 18, 'indv_ants': 10, 'min_indv_ants': 55, 'max_indv_ants': 60, 'rho': 0.7297785015868046, 'min_rho': 0.8708024250606443, 'max_rho': 0.9766556383850101, 'alpha_mean': 8.797414720971815, 'alpha_std': 3.959628450143283, 'beta_mean': 2.725650960922946, 'beta_std': 1.4880033642540087, 'par_a_mean': 0.45109364363294224, 'par_a_std': 0.1712229907093367, 'par_b_mean': 0.4176231000018388, 'par_b_std': 0.09524806727506174, 'par_c_mean': 0.2827519954914723, 'par_c_std': 0.23995764834122585}. Best is trial 2 with value: 0.4900116244079389.\n",
      "[I 2023-07-13 22:17:18,171] Trial 24 finished with value: -2.7214479994489054 and parameters: {'pop_size': 16, 'indv_ants': 7, 'min_indv_ants': 4, 'max_indv_ants': 5, 'rho': 0.8088929462524828, 'min_rho': 0.7732512041692199, 'max_rho': 0.9561227650592944, 'alpha_mean': 9.947360780392605, 'alpha_std': 2.074474335472469, 'beta_mean': 0.9551076505512133, 'beta_std': 3.7600444227179337, 'par_a_mean': 0.6625102741823298, 'par_a_std': 0.1261151823967656, 'par_b_mean': 0.5503931175473041, 'par_b_std': 0.04451131239395753, 'par_c_mean': 0.7587404202201191, 'par_c_std': 0.284130255126273}. Best is trial 2 with value: 0.4900116244079389.\n",
      "[I 2023-07-13 22:20:56,475] Trial 25 finished with value: -1.0531528644461527 and parameters: {'pop_size': 16, 'indv_ants': 7, 'min_indv_ants': 48, 'max_indv_ants': 58, 'rho': 0.8085246940546889, 'min_rho': 0.797222481424332, 'max_rho': 0.9608342607244648, 'alpha_mean': 5.289623255772842, 'alpha_std': 1.6930958854242875, 'beta_mean': 1.1175573305817457, 'beta_std': 3.804945030662612, 'par_a_mean': 0.6695854236038917, 'par_a_std': 0.1376451794462616, 'par_b_mean': 0.5643749300082996, 'par_b_std': 0.034680721831577735, 'par_c_mean': 0.4881297403019523, 'par_c_std': 0.19316042206258754}. Best is trial 2 with value: 0.4900116244079389.\n",
      "[I 2023-07-13 22:23:06,582] Trial 26 finished with value: -2.869422101897201 and parameters: {'pop_size': 17, 'indv_ants': 8, 'min_indv_ants': 3, 'max_indv_ants': 8, 'rho': 0.8515644913866451, 'min_rho': 0.7934370794036909, 'max_rho': 0.9612923352419867, 'alpha_mean': 9.981935300662514, 'alpha_std': 1.993056704391954, 'beta_mean': 0.771012047142813, 'beta_std': 3.794900781737484, 'par_a_mean': 0.667843262718921, 'par_a_std': 0.1267301188747627, 'par_b_mean': 0.3220542013465792, 'par_b_std': 0.03825012629864746, 'par_c_mean': 0.7592937135880876, 'par_c_std': 0.28556963084823583}. Best is trial 2 with value: 0.4900116244079389.\n",
      "[I 2023-07-13 22:26:00,797] Trial 29 finished with value: -6.074272372734803 and parameters: {'pop_size': 19, 'indv_ants': 11, 'min_indv_ants': 48, 'max_indv_ants': 58, 'rho': 0.6376541867503015, 'min_rho': 0.9261326046679511, 'max_rho': 0.9853068986556555, 'alpha_mean': 7.412661011323537, 'alpha_std': 1.6206589314888593, 'beta_mean': 1.862827628945885, 'beta_std': 2.6022915142929115, 'par_a_mean': 0.8167272356707809, 'par_a_std': 0.21571235868281347, 'par_b_mean': 0.881708990701593, 'par_b_std': 0.3965402691735371, 'par_c_mean': 0.23127757278973637, 'par_c_std': 0.21095982668589006}. Best is trial 2 with value: 0.4900116244079389.\n",
      "[I 2023-07-13 22:26:57,339] Trial 27 finished with value: -2.090244800281427 and parameters: {'pop_size': 19, 'indv_ants': 11, 'min_indv_ants': 18, 'max_indv_ants': 36, 'rho': 0.656705064282711, 'min_rho': 0.9273009307046108, 'max_rho': 0.9855305804206748, 'alpha_mean': 7.819472031811031, 'alpha_std': 1.626309479775702, 'beta_mean': 2.153451056320781, 'beta_std': 2.6145673432983147, 'par_a_mean': 0.8831352061183585, 'par_a_std': 0.201929520057998, 'par_b_mean': 0.8862422662673736, 'par_b_std': 0.43132398833927077, 'par_c_mean': 0.5850606687295832, 'par_c_std': 0.21427121504744484}. Best is trial 2 with value: 0.4900116244079389.\n",
      "[I 2023-07-13 22:42:47,756] Trial 28 finished with value: -1.5720404245639577 and parameters: {'pop_size': 19, 'indv_ants': 11, 'min_indv_ants': 19, 'max_indv_ants': 34, 'rho': 0.6630315015204737, 'min_rho': 0.9155998710980863, 'max_rho': 0.9858113562739496, 'alpha_mean': 0.3671522285554545, 'alpha_std': 2.452468857407635, 'beta_mean': 2.0325987695249363, 'beta_std': 2.790506871240075, 'par_a_mean': 0.8155846420160384, 'par_a_std': 0.19914578755209925, 'par_b_mean': 0.9041319435980393, 'par_b_std': 0.4457190883314568, 'par_c_mean': 0.2529207718223135, 'par_c_std': 0.2081561206130298}. Best is trial 2 with value: 0.4900116244079389.\n",
      "/mnt/wsl/Chomevincentdatalinuxhomevhd/user2/mambaforge-pypy3/envs/general/lib/python3.8/site-packages/optuna/samplers/_tpe/sampler.py:490: RuntimeWarning: invalid value encountered in subtract\n",
      "  score = log_l - log_g\n",
      "[I 2023-07-13 22:45:28,552] Trial 31 finished with value: -1.922590608340484 and parameters: {'pop_size': 10, 'indv_ants': 16, 'min_indv_ants': 38, 'max_indv_ants': 54, 'rho': 0.9206664093728711, 'min_rho': 0.7168914225635505, 'max_rho': 0.9427107481923038, 'alpha_mean': 6.807073696674088, 'alpha_std': 1.1767091351225047, 'beta_mean': 3.517362957272974, 'beta_std': 1.8017730302039126, 'par_a_mean': 0.9338907874741209, 'par_a_std': 0.2448252696910616, 'par_b_mean': 0.7947579421070636, 'par_b_std': 0.1537710249353208, 'par_c_mean': 0.3890763442123046, 'par_c_std': 0.17513348107971718}. Best is trial 2 with value: 0.4900116244079389.\n",
      "[I 2023-07-13 22:48:50,813] Trial 32 finished with value: -4.743172189794489 and parameters: {'pop_size': 10, 'indv_ants': 16, 'min_indv_ants': 38, 'max_indv_ants': 54, 'rho': 0.9061740581543981, 'min_rho': 0.9876908230810122, 'max_rho': 0.23818983567439855, 'alpha_mean': 6.920854187990891, 'alpha_std': 1.3164556224608925, 'beta_mean': 3.5567442756790024, 'beta_std': 1.9216371686453677, 'par_a_mean': 0.29400859395185386, 'par_a_std': 0.1559992248292913, 'par_b_mean': 0.283277056184006, 'par_b_std': 0.07723397691111526, 'par_c_mean': 0.3975395409431617, 'par_c_std': 0.1813889272431088}. Best is trial 2 with value: 0.4900116244079389.\n",
      "[I 2023-07-13 22:50:38,647] Trial 30 finished with value: -0.9889579335620048 and parameters: {'pop_size': 10, 'indv_ants': 16, 'min_indv_ants': 38, 'max_indv_ants': 53, 'rho': 0.9148043439449142, 'min_rho': 0.7100923383471347, 'max_rho': 0.9375344949606581, 'alpha_mean': 6.880865463435967, 'alpha_std': 1.3201195900885216, 'beta_mean': 3.652751329025441, 'beta_std': 1.6627517892715495, 'par_a_mean': 0.27999085156084097, 'par_a_std': 0.15605444255635903, 'par_b_mean': 0.8091677248693948, 'par_b_std': 0.16264397353138904, 'par_c_mean': 0.21029467302924987, 'par_c_std': 0.2824142678014443}. Best is trial 2 with value: 0.4900116244079389.\n",
      "[I 2023-07-13 22:52:35,943] Trial 34 finished with value: -1.1736295160865238 and parameters: {'pop_size': 20, 'indv_ants': 13, 'min_indv_ants': 7, 'max_indv_ants': 41, 'rho': 0.0873187099946271, 'min_rho': 0.8488122274440902, 'max_rho': 0.9704773124302637, 'alpha_mean': 8.12198135018587, 'alpha_std': 0.8122521253307822, 'beta_mean': 4.368884282979027, 'beta_std': 0.5426868142162795, 'par_a_mean': 0.9266394736341842, 'par_a_std': 0.10197779194634593, 'par_b_mean': 0.8485099442319322, 'par_b_std': 0.30173554000020025, 'par_c_mean': 0.35898252804053987, 'par_c_std': 0.12531288104706795}. Best is trial 2 with value: 0.4900116244079389.\n",
      "[I 2023-07-13 22:53:13,609] Trial 35 finished with value: -1.3351650824998396 and parameters: {'pop_size': 20, 'indv_ants': 13, 'min_indv_ants': 9, 'max_indv_ants': 43, 'rho': 0.2884218598057553, 'min_rho': 0.881728117469871, 'max_rho': 0.9776363820062529, 'alpha_mean': 7.8477005659515715, 'alpha_std': 0.8966266423542834, 'beta_mean': 4.177514679355824, 'beta_std': 0.6275034524815319, 'par_a_mean': 0.9054339431755403, 'par_a_std': 0.10209443964398462, 'par_b_mean': 0.8476774165178571, 'par_b_std': 0.30351066946761124, 'par_c_mean': 0.3343769148977448, 'par_c_std': 0.025504278764218263}. Best is trial 2 with value: 0.4900116244079389.\n",
      "[I 2023-07-13 23:00:00,326] Trial 33 finished with value: -0.4664090851184192 and parameters: {'pop_size': 20, 'indv_ants': 13, 'min_indv_ants': 8, 'max_indv_ants': 42, 'rho': 0.3196624869948861, 'min_rho': 0.901117222348319, 'max_rho': 0.9814079510363461, 'alpha_mean': 7.993781564633464, 'alpha_std': 0.9340135321659183, 'beta_mean': 4.330981927820716, 'beta_std': 0.5084098704655856, 'par_a_mean': 0.9220628864259744, 'par_a_std': 0.09579369476839648, 'par_b_mean': 0.8444477509098818, 'par_b_std': 0.30736682561956713, 'par_c_mean': 0.3551987862249264, 'par_c_std': 0.13216071078198913}. Best is trial 2 with value: 0.4900116244079389.\n",
      "[I 2023-07-13 23:02:44,549] Trial 36 finished with value: -1.4870533736045854 and parameters: {'pop_size': 8, 'indv_ants': 12, 'min_indv_ants': 44, 'max_indv_ants': 58, 'rho': 0.7846951489442118, 'min_rho': 0.8210170183166657, 'max_rho': 0.9685287561897983, 'alpha_mean': 9.235594120343208, 'alpha_std': 0.56728946091151, 'beta_mean': 0.639302446903296, 'beta_std': 0.9835347838830969, 'par_a_mean': 0.9486964908407383, 'par_a_std': 0.08697141828827944, 'par_b_mean': 0.9307910150564518, 'par_b_std': 0.18916486983707656, 'par_c_mean': 0.10920577626899564, 'par_c_std': 0.3302333607876353}. Best is trial 2 with value: 0.4900116244079389.\n",
      "[I 2023-07-13 23:06:59,467] Trial 38 finished with value: -3.0401444912465174 and parameters: {'pop_size': 15, 'indv_ants': 12, 'min_indv_ants': 19, 'max_indv_ants': 33, 'rho': 0.7738027187331471, 'min_rho': 0.8342839801418216, 'max_rho': 0.9649395198736164, 'alpha_mean': 9.336503452732881, 'alpha_std': 2.2600563341056774, 'beta_mean': 0.8853648617262172, 'beta_std': 1.0137785012700193, 'par_a_mean': 0.9507421057405349, 'par_a_std': 0.06497020453568597, 'par_b_mean': 0.9722282314512236, 'par_b_std': 0.19715538658695056, 'par_c_mean': 0.1024783208783987, 'par_c_std': 0.3235174838401202}. Best is trial 2 with value: 0.4900116244079389.\n",
      "[I 2023-07-13 23:10:45,536] Trial 37 finished with value: -2.359335053073117 and parameters: {'pop_size': 8, 'indv_ants': 12, 'min_indv_ants': 18, 'max_indv_ants': 33, 'rho': 0.7667445541935984, 'min_rho': 0.8337013725613339, 'max_rho': 0.9693318452832139, 'alpha_mean': 8.73671372688927, 'alpha_std': 0.5539128624549658, 'beta_mean': 0.7390929159476425, 'beta_std': 3.2487922628724006, 'par_a_mean': 0.9412582091174277, 'par_a_std': 0.06480811431720472, 'par_b_mean': 0.9541085659527615, 'par_b_std': 0.21327131171112715, 'par_c_mean': 0.089685683912469, 'par_c_std': 0.32631569378998215}. Best is trial 2 with value: 0.4900116244079389.\n",
      "[I 2023-07-13 23:12:24,966] Trial 40 finished with value: -0.6053697660537005 and parameters: {'pop_size': 12, 'indv_ants': 14, 'min_indv_ants': 8, 'max_indv_ants': 30, 'rho': 0.5058244118241768, 'min_rho': 0.9287866005424514, 'max_rho': 0.9810825612064936, 'alpha_mean': 8.284370946174505, 'alpha_std': 1.0585058769442575, 'beta_mean': 2.3635225076606385, 'beta_std': 0.3631573704154525, 'par_a_mean': 0.9987662559490155, 'par_a_std': 0.19002619123880501, 'par_b_mean': 0.7493358277467355, 'par_b_std': 0.26812738775427014, 'par_c_mean': 0.1948365371829999, 'par_c_std': 0.3002914184598917}. Best is trial 2 with value: 0.4900116244079389.\n",
      "[I 2023-07-13 23:16:18,294] Trial 41 finished with value: -1.1066950684751269 and parameters: {'pop_size': 12, 'indv_ants': 14, 'min_indv_ants': 7, 'max_indv_ants': 27, 'rho': 0.4991239723577837, 'min_rho': 0.742217181768971, 'max_rho': 0.9453197262505587, 'alpha_mean': 8.149959571277062, 'alpha_std': 1.0242755289419945, 'beta_mean': 2.476775530365537, 'beta_std': 0.28723689537309305, 'par_a_mean': 0.1682408691524443, 'par_a_std': 0.1883120903711297, 'par_b_mean': 0.7086075955973681, 'par_b_std': 0.08007311411515405, 'par_c_mean': 0.19690552970507585, 'par_c_std': 0.2996150646279445}. Best is trial 2 with value: 0.4900116244079389.\n",
      "[I 2023-07-13 23:17:08,698] Trial 39 finished with value: -1.035226677217599 and parameters: {'pop_size': 12, 'indv_ants': 2, 'min_indv_ants': 51, 'max_indv_ants': 59, 'rho': 0.4925486094760159, 'min_rho': 0.7564962216102157, 'max_rho': 0.9479916909616701, 'alpha_mean': 8.300232003158659, 'alpha_std': 1.0886744005800264, 'beta_mean': 2.5094163452790204, 'beta_std': 0.24079016267990622, 'par_a_mean': 0.9998072055574436, 'par_a_std': 0.1967534798401373, 'par_b_mean': 0.7215796824554446, 'par_b_std': 0.262260672478449, 'par_c_mean': 0.4523710250259056, 'par_c_std': 0.12132454740883532}. Best is trial 2 with value: 0.4900116244079389.\n",
      "[I 2023-07-13 23:18:04,018] Trial 42 finished with value: -5.514407556392342 and parameters: {'pop_size': 11, 'indv_ants': 14, 'min_indv_ants': 11, 'max_indv_ants': 30, 'rho': 0.42908085698991183, 'min_rho': 0.9276293575347422, 'max_rho': 0.9835623922678377, 'alpha_mean': 9.544677825052771, 'alpha_std': 1.8633482719475198, 'beta_mean': 1.6118764632610822, 'beta_std': 0.7663502997397951, 'par_a_mean': 0.9004613320534203, 'par_a_std': 0.177587419850808, 'par_b_mean': 0.8109477273460739, 'par_b_std': 0.28117163735274814, 'par_c_mean': 0.18295326027229178, 'par_c_std': 0.35219228701475624}. Best is trial 2 with value: 0.4900116244079389.\n",
      "[I 2023-07-13 23:18:52,415] Trial 43 finished with value: -1.5200586856711649 and parameters: {'pop_size': 11, 'indv_ants': 14, 'min_indv_ants': 11, 'max_indv_ants': 37, 'rho': 0.6145002643764035, 'min_rho': 0.9195082151075449, 'max_rho': 0.9807386852878032, 'alpha_mean': 9.46289046193878, 'alpha_std': 1.3770215622054387, 'beta_mean': 1.4688294336940118, 'beta_std': 0.8099269422173302, 'par_a_mean': 0.8977944440738391, 'par_a_std': 0.11957648789079849, 'par_b_mean': 0.8253900701835877, 'par_b_std': 0.2816654537655458, 'par_c_mean': 0.24246717661068123, 'par_c_std': 0.30823943178161173}. Best is trial 2 with value: 0.4900116244079389.\n",
      "[I 2023-07-13 23:19:56,694] Trial 44 finished with value: -2.0310570546460975 and parameters: {'pop_size': 11, 'indv_ants': 14, 'min_indv_ants': 12, 'max_indv_ants': 29, 'rho': 0.6186323726809503, 'min_rho': 0.8998923676187556, 'max_rho': 0.9797527385721968, 'alpha_mean': 7.477204805979827, 'alpha_std': 1.8283178162520792, 'beta_mean': 1.3655933073055642, 'beta_std': 0.7234558176842201, 'par_a_mean': 0.8889123283985483, 'par_a_std': 0.17507912869889014, 'par_b_mean': 0.8112831808066194, 'par_b_std': 0.2839245952737903, 'par_c_mean': 0.17312784742323742, 'par_c_std': 0.3049723233104206}. Best is trial 2 with value: 0.4900116244079389.\n",
      "/mnt/wsl/Chomevincentdatalinuxhomevhd/user2/mambaforge-pypy3/envs/general/lib/python3.8/site-packages/optuna/samplers/_tpe/sampler.py:490: RuntimeWarning: invalid value encountered in subtract\n",
      "  score = log_l - log_g\n",
      "[I 2023-07-13 23:23:19,478] Trial 45 finished with value: -1.74101413686636 and parameters: {'pop_size': 13, 'indv_ants': 17, 'min_indv_ants': 27, 'max_indv_ants': 51, 'rho': 0.7002000620360692, 'min_rho': 0.9519841519200852, 'max_rho': 0.9882263770162032, 'alpha_mean': 8.595896846354897, 'alpha_std': 1.535957406910685, 'beta_mean': 2.233684982279779, 'beta_std': 0.40080074133582627, 'par_a_mean': 0.8123655859761226, 'par_a_std': 0.22189117229743174, 'par_b_mean': 0.7044310750545466, 'par_b_std': 0.1308782066421565, 'par_c_mean': 0.5297752157627243, 'par_c_std': 0.09941642465306849}. Best is trial 2 with value: 0.4900116244079389.\n",
      "[I 2023-07-13 23:24:14,933] Trial 47 finished with value: -2.276744301401521 and parameters: {'pop_size': 13, 'indv_ants': 17, 'min_indv_ants': 2, 'max_indv_ants': 24, 'rho': 0.6859240549718988, 'min_rho': 0.9856761003646135, 'max_rho': 0.03671756403452986, 'alpha_mean': 8.44088396166067, 'alpha_std': 1.5212109525997324, 'beta_mean': 3.312626765339211, 'beta_std': 0.46106590612167386, 'par_a_mean': 0.7399035536294915, 'par_a_std': 0.1579369738413895, 'par_b_mean': 0.7006080320118522, 'par_b_std': 0.1394052112920927, 'par_c_mean': 0.5246824718533265, 'par_c_std': 0.0913531759765372}. Best is trial 2 with value: 0.4900116244079389.\n",
      "[I 2023-07-13 23:44:04,578] Trial 46 finished with value: -2.4100982158665136 and parameters: {'pop_size': 13, 'indv_ants': 17, 'min_indv_ants': 2, 'max_indv_ants': 50, 'rho': 0.6817353926966441, 'min_rho': 0.9563538473096832, 'max_rho': 0.9880921585190113, 'alpha_mean': 7.640083574059563, 'alpha_std': 1.5217940870624345, 'beta_mean': 3.2841659110015726, 'beta_std': 0.4218336931977404, 'par_a_mean': 0.9716626838502964, 'par_a_std': 0.23482451262764953, 'par_b_mean': 0.6861539594022061, 'par_b_std': 0.1336951185908263, 'par_c_mean': 0.3393272628426156, 'par_c_std': 0.27775829086352816}. Best is trial 2 with value: 0.4900116244079389.\n",
      "[I 2023-07-13 23:47:11,947] Trial 48 finished with value: -2.1995584448682193 and parameters: {'pop_size': 15, 'indv_ants': 10, 'min_indv_ants': 7, 'max_indv_ants': 38, 'rho': 0.5738662604976071, 'min_rho': 0.8854260812795383, 'max_rho': 0.9819524452122264, 'alpha_mean': 9.000028648422273, 'alpha_std': 1.1536174037885574, 'beta_mean': 2.2544345783781865, 'beta_std': 1.1170911256625087, 'par_a_mean': 0.8472263163940924, 'par_a_std': 0.1409246267077821, 'par_b_mean': 0.7599286567406124, 'par_b_std': 0.1743500780979383, 'par_c_mean': 0.4459575705117096, 'par_c_std': 0.15558689364026113}. Best is trial 2 with value: 0.4900116244079389.\n",
      "[I 2023-07-13 23:47:21,225] Trial 49 finished with value: -1.3678577102404084 and parameters: {'pop_size': 17, 'indv_ants': 9, 'min_indv_ants': 7, 'max_indv_ants': 38, 'rho': 0.5340101117562552, 'min_rho': 0.8875296709533793, 'max_rho': 0.9812298824995817, 'alpha_mean': 9.035886253670803, 'alpha_std': 1.167911023535838, 'beta_mean': 2.4883485852001455, 'beta_std': 0.16624580646879092, 'par_a_mean': 0.836342317049073, 'par_a_std': 0.13806910126303987, 'par_b_mean': 0.7704730772421023, 'par_b_std': 0.3299376644288462, 'par_c_mean': 0.28578196906244646, 'par_c_std': 0.25945242772889326}. Best is trial 2 with value: 0.4900116244079389.\n",
      "[I 2023-07-13 23:56:11,574] Trial 50 finished with value: -2.1815395123766295 and parameters: {'pop_size': 17, 'indv_ants': 10, 'min_indv_ants': 6, 'max_indv_ants': 38, 'rho': 0.5297207157260698, 'min_rho': 0.2517274904832234, 'max_rho': 0.890329757636545, 'alpha_mean': 9.157612137856313, 'alpha_std': 1.2008225194297057, 'beta_mean': 2.237788970253769, 'beta_std': 0.1310490227983391, 'par_a_mean': 0.8390632918338031, 'par_a_std': 0.14122530582306092, 'par_b_mean': 0.77912843440509, 'par_b_std': 0.3279352874788787, 'par_c_mean': 0.2520079619219731, 'par_c_std': 0.253100855853115}. Best is trial 2 with value: 0.4900116244079389.\n",
      "[I 2023-07-14 00:02:42,052] Trial 51 finished with value: -1.4999545177999711 and parameters: {'pop_size': 20, 'indv_ants': 13, 'min_indv_ants': 14, 'max_indv_ants': 43, 'rho': 0.4150830689929424, 'min_rho': 0.8043941651577113, 'max_rho': 0.973154024305491, 'alpha_mean': 4.031455018275038, 'alpha_std': 0.8397095118692487, 'beta_mean': 4.77128315684051, 'beta_std': 0.5419100438756604, 'par_a_mean': 0.9585000417028894, 'par_a_std': 0.0817664987525936, 'par_b_mean': 0.8676554601383546, 'par_b_std': 0.2463413080541485, 'par_c_mean': 0.36970233044284706, 'par_c_std': 0.06849214465423317}. Best is trial 2 with value: 0.4900116244079389.\n",
      "[I 2023-07-14 00:03:04,232] Trial 52 finished with value: -1.371525044642554 and parameters: {'pop_size': 20, 'indv_ants': 13, 'min_indv_ants': 15, 'max_indv_ants': 31, 'rho': 0.014536954370594567, 'min_rho': 0.8112290843620067, 'max_rho': 0.9732719089489087, 'alpha_mean': 4.2176034397401105, 'alpha_std': 0.9324857526688952, 'beta_mean': 4.576171569182126, 'beta_std': 0.49236408340255294, 'par_a_mean': 0.96476320614239, 'par_a_std': 0.08409738275877501, 'par_b_mean': 0.8627482944999334, 'par_b_std': 0.2492317927579573, 'par_c_mean': 0.3682548193819286, 'par_c_std': 0.055328496474479655}. Best is trial 2 with value: 0.4900116244079389.\n",
      "[I 2023-07-14 00:38:05,513] Trial 53 finished with value: -0.8416414933491091 and parameters: {'pop_size': 20, 'indv_ants': 13, 'min_indv_ants': 15, 'max_indv_ants': 44, 'rho': 0.36503249432900287, 'min_rho': 0.8234352775167758, 'max_rho': 0.9716831082474972, 'alpha_mean': 4.675247356649727, 'alpha_std': 0.9682985750228337, 'beta_mean': 4.623583777715904, 'beta_std': 0.34249655898707126, 'par_a_mean': 0.9505872061847058, 'par_a_std': 0.11613863256108767, 'par_b_mean': 0.8586308520109667, 'par_b_std': 0.3466377313490511, 'par_c_mean': 0.3660890351684097, 'par_c_std': 0.056741162617641366}. Best is trial 2 with value: 0.4900116244079389.\n",
      "[I 2023-07-14 00:41:01,693] Trial 54 finished with value: -0.5426300060634791 and parameters: {'pop_size': 19, 'indv_ants': 15, 'min_indv_ants': 16, 'max_indv_ants': 27, 'rho': 0.3696136786767013, 'min_rho': 0.5095490833630647, 'max_rho': 0.9123948545759286, 'alpha_mean': 5.47208714079857, 'alpha_std': 1.0125090945505812, 'beta_mean': 3.9083637978281636, 'beta_std': 0.3909827085430388, 'par_a_mean': 0.9108237246464138, 'par_a_std': 0.11603141022862803, 'par_b_mean': 0.9123921978080682, 'par_b_std': 0.3393310487192324, 'par_c_mean': 0.143403329921877, 'par_c_std': 0.041650999169182024}. Best is trial 2 with value: 0.4900116244079389.\n",
      "[I 2023-07-14 00:41:11,510] Trial 56 finished with value: -1.4563305615479114 and parameters: {'pop_size': 19, 'indv_ants': 15, 'min_indv_ants': 35, 'max_indv_ants': 45, 'rho': 0.37029794059509263, 'min_rho': 0.6950716625778386, 'max_rho': 0.9540245568325662, 'alpha_mean': 4.775488701821014, 'alpha_std': 0.9847379793381286, 'beta_mean': 3.9959009153450173, 'beta_std': 0.26295080494440626, 'par_a_mean': 0.9282264733412449, 'par_a_std': 0.116502023429148, 'par_b_mean': 0.9217776196571, 'par_b_std': 0.3577016045384069, 'par_c_mean': 0.3151181665781464, 'par_c_std': 0.012482647776405453}. Best is trial 2 with value: 0.4900116244079389.\n",
      "[I 2023-07-14 00:44:59,733] Trial 55 finished with value: -0.939410658521128 and parameters: {'pop_size': 19, 'indv_ants': 15, 'min_indv_ants': 35, 'max_indv_ants': 45, 'rho': 0.3151638394682843, 'min_rho': 0.5424397290000101, 'max_rho': 0.9279374369644602, 'alpha_mean': 4.889959869530132, 'alpha_std': 1.049823662952016, 'beta_mean': 4.00207122902692, 'beta_std': 0.2568412314789503, 'par_a_mean': 0.9130313829083201, 'par_a_std': 0.11269596610014793, 'par_b_mean': 0.9049247920363392, 'par_b_std': 0.34476848947738414, 'par_c_mean': 0.4407238947996239, 'par_c_std': 0.014670394214786137}. Best is trial 2 with value: 0.4900116244079389.\n",
      "[I 2023-07-14 00:48:16,198] Trial 59 finished with value: -1.783876719611433 and parameters: {'pop_size': 9, 'indv_ants': 14, 'min_indv_ants': 9, 'max_indv_ants': 20, 'rho': 0.9849637166542874, 'min_rho': 0.48447887161535313, 'max_rho': 0.9088371595686396, 'alpha_mean': 8.13420282996404, 'alpha_std': 0.6912660669681223, 'beta_mean': 5.280628409790383, 'beta_std': 0.6250772771918522, 'par_a_mean': 0.9955682902897047, 'par_a_std': 0.20726332153454471, 'par_b_mean': 0.9920136437471968, 'par_b_std': 0.10927248190205058, 'par_c_mean': 0.21662841723921025, 'par_c_std': 0.33572337081774895}. Best is trial 2 with value: 0.4900116244079389.\n",
      "[I 2023-07-14 00:55:08,145] Trial 57 finished with value: -1.6894688264340763 and parameters: {'pop_size': 9, 'indv_ants': 14, 'min_indv_ants': 21, 'max_indv_ants': 27, 'rho': 0.9524984956065496, 'min_rho': 0.43834015418323535, 'max_rho': 0.9013684501424488, 'alpha_mean': 5.73871865102844, 'alpha_std': 1.4365676573446562, 'beta_mean': 3.077541400228732, 'beta_std': 0.8701225743303584, 'par_a_mean': 0.7778406490181429, 'par_a_std': 0.16094312329934982, 'par_b_mean': 0.9404710467888531, 'par_b_std': 0.09139755258520199, 'par_c_mean': 0.16200854802656792, 'par_c_std': 0.33853781336107025}. Best is trial 2 with value: 0.4900116244079389.\n",
      "[I 2023-07-14 01:03:25,311] Trial 58 finished with value: -1.1850416026943082 and parameters: {'pop_size': 18, 'indv_ants': 5, 'min_indv_ants': 21, 'max_indv_ants': 27, 'rho': 0.7462676300510809, 'min_rho': 0.47900175412928037, 'max_rho': 0.9114771510747361, 'alpha_mean': 8.086670920542725, 'alpha_std': 1.4176535161982826, 'beta_mean': 2.9722435382369135, 'beta_std': 1.1615625993387697, 'par_a_mean': 0.9939878483106623, 'par_a_std': 0.21089870746517905, 'par_b_mean': 0.9898890377461956, 'par_b_std': 0.22154146391066643, 'par_c_mean': 0.16252473300100517, 'par_c_std': 0.23012810305348436}. Best is trial 2 with value: 0.4900116244079389.\n",
      "[I 2023-07-14 01:09:05,714] Trial 62 finished with value: -1.3131836216093682 and parameters: {'pop_size': 15, 'indv_ants': 16, 'min_indv_ants': 27, 'max_indv_ants': 31, 'rho': 0.8426829462120184, 'min_rho': 0.5727379900114292, 'max_rho': 0.9317861935546387, 'alpha_mean': 8.508165308012956, 'alpha_std': 1.7356197068858121, 'beta_mean': 0.38738914601687147, 'beta_std': 1.3281675352902167, 'par_a_mean': 0.865428054712023, 'par_a_std': 0.17118897668638156, 'par_b_mean': 0.6453312120855139, 'par_b_std': 0.026522322675501912, 'par_c_mean': 0.14391320223969964, 'par_c_std': 0.37485493119666186}. Best is trial 2 with value: 0.4900116244079389.\n",
      "[I 2023-07-14 01:16:44,785] Trial 61 finished with value: -2.2493996249362755 and parameters: {'pop_size': 15, 'indv_ants': 12, 'min_indv_ants': 28, 'max_indv_ants': 32, 'rho': 0.8548208419565801, 'min_rho': 0.6029380231527668, 'max_rho': 0.935764575323351, 'alpha_mean': 9.584456703871652, 'alpha_std': 1.7407536113831656, 'beta_mean': 1.821128975216196, 'beta_std': 0.1131008818441876, 'par_a_mean': 0.7103633687263193, 'par_a_std': 0.17738169778720028, 'par_b_mean': 0.6606943022492142, 'par_b_std': 0.010587047288197773, 'par_c_mean': 0.25618111953067857, 'par_c_std': 0.037509572052932594}. Best is trial 2 with value: 0.4900116244079389.\n",
      "[I 2023-07-14 01:19:17,913] Trial 60 finished with value: -4.117033788649699 and parameters: {'pop_size': 12, 'indv_ants': 19, 'min_indv_ants': 26, 'max_indv_ants': 31, 'rho': 0.46843464332129664, 'min_rho': 0.5740892897766892, 'max_rho': 0.8722301327342945, 'alpha_mean': 7.166991488520241, 'alpha_std': 1.7237036152572598, 'beta_mean': 1.8400648626585043, 'beta_std': 0.047650281936314265, 'par_a_mean': 0.8737298927413214, 'par_a_std': 0.18625100121994118, 'par_b_mean': 0.7333869964114902, 'par_b_std': 0.021257159079998533, 'par_c_mean': 0.2659737336264769, 'par_c_std': 0.039035109349488104}. Best is trial 2 with value: 0.4900116244079389.\n",
      "[I 2023-07-14 01:19:58,763] Trial 64 finished with value: -1.5848046685222905 and parameters: {'pop_size': 20, 'indv_ants': 15, 'min_indv_ants': 15, 'max_indv_ants': 25, 'rho': 0.5755008769304356, 'min_rho': 0.7838051604377003, 'max_rho': 0.9623914197127268, 'alpha_mean': 6.4831559825403025, 'alpha_std': 1.2651330489625596, 'beta_mean': 1.1604820120189718, 'beta_std': 0.346400113658165, 'par_a_mean': 0.9695057433645966, 'par_a_std': 0.1276573533966216, 'par_b_mean': 0.8307849009136548, 'par_b_std': 0.06035232804671291, 'par_c_mean': 0.3068868902592804, 'par_c_std': 0.2660975716248725}. Best is trial 2 with value: 0.4900116244079389.\n",
      "[I 2023-07-14 01:21:35,132] Trial 65 finished with value: -4.090538661458379 and parameters: {'pop_size': 20, 'indv_ants': 15, 'min_indv_ants': 16, 'max_indv_ants': 24, 'rho': 0.5377957671929905, 'min_rho': 0.8455850196951196, 'max_rho': 0.9897781917634955, 'alpha_mean': 5.286974379857771, 'alpha_std': 1.2731222496382846, 'beta_mean': 5.031071819551912, 'beta_std': 0.39903629686987996, 'par_a_mean': 0.7935814853285065, 'par_a_std': 0.12885836047578517, 'par_b_mean': 0.8867961760414127, 'par_b_std': 0.3634224319255476, 'par_c_mean': 0.3310830988783466, 'par_c_std': 0.26727683130194935}. Best is trial 2 with value: 0.4900116244079389.\n",
      "[I 2023-07-14 01:24:59,351] Trial 63 finished with value: -2.2214052258143084 and parameters: {'pop_size': 20, 'indv_ants': 15, 'min_indv_ants': 16, 'max_indv_ants': 56, 'rho': 0.5314594573159723, 'min_rho': 0.8486821170504605, 'max_rho': 0.9661396010174804, 'alpha_mean': 6.448785888095088, 'alpha_std': 1.2131809508097757, 'beta_mean': 1.2883115888687233, 'beta_std': 0.37045825053846926, 'par_a_mean': 0.9334719313701234, 'par_a_std': 0.13038438552537443, 'par_b_mean': 0.8401019333958782, 'par_b_std': 0.05422237103335336, 'par_c_mean': 0.30533107684292266, 'par_c_std': 0.07821472614273756}. Best is trial 2 with value: 0.4900116244079389.\n",
      "[I 2023-07-14 01:28:40,020] Trial 67 finished with value: -1.853710239616691 and parameters: {'pop_size': 19, 'indv_ants': 12, 'min_indv_ants': 5, 'max_indv_ants': 22, 'rho': 0.7226013138863814, 'min_rho': 0.6632160756907434, 'max_rho': 0.952953484116165, 'alpha_mean': 4.489953045979502, 'alpha_std': 1.0610320870172798, 'beta_mean': 3.74553284744214, 'beta_std': 0.7009900846299404, 'par_a_mean': 0.8864576977067188, 'par_a_std': 0.15828263306805102, 'par_b_mean': 0.9574217716214222, 'par_b_std': 0.3724213081656588, 'par_c_mean': 0.22595133212679763, 'par_c_std': 0.31410440818470087}. Best is trial 2 with value: 0.4900116244079389.\n",
      "[I 2023-07-14 01:30:32,246] Trial 68 finished with value: -2.6081747069432764 and parameters: {'pop_size': 19, 'indv_ants': 12, 'min_indv_ants': 4, 'max_indv_ants': 35, 'rho': 0.6025969444307111, 'min_rho': 0.9549200965403001, 'max_rho': 0.9746346957973103, 'alpha_mean': 4.323062920488005, 'alpha_std': 1.0956435882654068, 'beta_mean': 4.507857406465179, 'beta_std': 0.6973822140754291, 'par_a_mean': 0.8994404495652556, 'par_a_std': 0.14839894005698157, 'par_b_mean': 0.9140317824986797, 'par_b_std': 0.37389021026365454, 'par_c_mean': 0.4064776252656058, 'par_c_std': 0.10936913646237557}. Best is trial 2 with value: 0.4900116244079389.\n",
      "[I 2023-07-14 01:35:18,026] Trial 66 finished with value: -0.5043877892025053 and parameters: {'pop_size': 19, 'indv_ants': 12, 'min_indv_ants': 9, 'max_indv_ants': 35, 'rho': 0.7302279290040973, 'min_rho': 0.9597744715996044, 'max_rho': 0.9779150049197516, 'alpha_mean': 7.236588338955611, 'alpha_std': 1.0434461347005488, 'beta_mean': 3.758233459107351, 'beta_std': 0.5485759218113264, 'par_a_mean': 0.9091009010449139, 'par_a_std': 0.15007517307171817, 'par_b_mean': 0.954771241825295, 'par_b_std': 0.37204287312094886, 'par_c_mean': 0.22116613833937188, 'par_c_std': 0.2952059870353874}. Best is trial 2 with value: 0.4900116244079389.\n",
      "[I 2023-07-14 01:38:11,809] Trial 70 finished with value: -2.6549770191735083 and parameters: {'pop_size': 18, 'indv_ants': 11, 'min_indv_ants': 43, 'max_indv_ants': 48, 'rho': 0.6593267456967672, 'min_rho': 0.9021245926308267, 'max_rho': 0.9782068697295692, 'alpha_mean': 7.875482450397712, 'alpha_std': 1.4170356346766937, 'beta_mean': 2.6419692699883393, 'beta_std': 0.9118194032553386, 'par_a_mean': 0.7391700780851173, 'par_a_std': 0.14955203072674117, 'par_b_mean': 0.9599631370862689, 'par_b_std': 0.3131870321068459, 'par_c_mean': 0.20185598428482873, 'par_c_std': 0.2873257258555461}. Best is trial 2 with value: 0.4900116244079389.\n",
      "[I 2023-07-14 01:43:07,611] Trial 71 finished with value: -4.009763446647291 and parameters: {'pop_size': 18, 'indv_ants': 11, 'min_indv_ants': 9, 'max_indv_ants': 16, 'rho': 0.809488653105355, 'min_rho': 0.9468197741752931, 'max_rho': 0.9785678166679854, 'alpha_mean': 7.816185674438889, 'alpha_std': 1.4030975900808045, 'beta_mean': 2.7474825884888228, 'beta_std': 0.9372805064333088, 'par_a_mean': 0.8193793164226796, 'par_a_std': 0.16808272931781748, 'par_b_mean': 0.7893865214036441, 'par_b_std': 0.31867827156064255, 'par_c_mean': 0.1367165087563096, 'par_c_std': 0.29205843799267556}. Best is trial 2 with value: 0.4900116244079389.\n",
      "[I 2023-07-14 01:48:38,229] Trial 69 finished with value: -1.501213213483135 and parameters: {'pop_size': 18, 'indv_ants': 11, 'min_indv_ants': 60, 'max_indv_ants': 60, 'rho': 0.8724585217928565, 'min_rho': 0.8812213946910147, 'max_rho': 0.9771127939804999, 'alpha_mean': 7.44405714059478, 'alpha_std': 1.4107245828843091, 'beta_mean': 2.789243998682184, 'beta_std': 0.8542577670090572, 'par_a_mean': 0.7453884636636604, 'par_a_std': 0.1670167455827668, 'par_b_mean': 0.9610629747839674, 'par_b_std': 0.3075849720255637, 'par_c_mean': 0.1404298304094925, 'par_c_std': 0.2947520689290188}. Best is trial 2 with value: 0.4900116244079389.\n",
      "/mnt/wsl/Chomevincentdatalinuxhomevhd/user2/mambaforge-pypy3/envs/general/lib/python3.8/site-packages/optuna/samplers/_tpe/sampler.py:490: RuntimeWarning: invalid value encountered in subtract\n",
      "  score = log_l - log_g\n",
      "[I 2023-07-14 01:52:03,070] Trial 73 finished with value: -0.7431233070787202 and parameters: {'pop_size': 19, 'indv_ants': 13, 'min_indv_ants': 12, 'max_indv_ants': 35, 'rho': 0.7519158441865933, 'min_rho': 0.7496010771696278, 'max_rho': 0.9598346124871464, 'alpha_mean': 8.54848679297266, 'alpha_std': 0.8925274328709473, 'beta_mean': 3.734984279128261, 'beta_std': 0.5251079718893048, 'par_a_mean': 0.9234586538149914, 'par_a_std': 0.09991967684462819, 'par_b_mean': 0.8848256832912623, 'par_b_std': 0.3391141121324857, 'par_c_mean': 0.27116305298387544, 'par_c_std': 0.3115138173666316}. Best is trial 2 with value: 0.4900116244079389.\n",
      "[I 2023-07-14 01:53:16,866] Trial 74 finished with value: -2.4868000704820603 and parameters: {'pop_size': 19, 'indv_ants': 13, 'min_indv_ants': 12, 'max_indv_ants': 41, 'rho': 0.732696253404857, 'min_rho': 0.9859633633657522, 'max_rho': 0.06544386414839809, 'alpha_mean': 3.472186277473439, 'alpha_std': 0.7766271751935607, 'beta_mean': 3.759867258925794, 'beta_std': 0.452103412770227, 'par_a_mean': 0.9267381177430886, 'par_a_std': 0.1032970886929547, 'par_b_mean': 0.8685763382917688, 'par_b_std': 0.3408847796345691, 'par_c_mean': 0.2675999672257685, 'par_c_std': 0.31204532437998195}. Best is trial 2 with value: 0.4900116244079389.\n",
      "[I 2023-07-14 02:07:20,081] Trial 72 finished with value: -1.1772871999912493 and parameters: {'pop_size': 19, 'indv_ants': 8, 'min_indv_ants': 12, 'max_indv_ants': 35, 'rho': 0.7095411592814305, 'min_rho': 0.9879605425981511, 'max_rho': 0.265161787388293, 'alpha_mean': 3.6478075731194726, 'alpha_std': 0.9358473931307404, 'beta_mean': 3.8540000775085286, 'beta_std': 0.5881677178199197, 'par_a_mean': 0.9190226677703351, 'par_a_std': 0.10049258323846827, 'par_b_mean': 0.903208627456463, 'par_b_std': 0.3400004737514869, 'par_c_mean': 0.06261245694263431, 'par_c_std': 0.31671016816581604}. Best is trial 2 with value: 0.4900116244079389.\n",
      "[W 2023-07-14 02:07:20,962] Trial 76 failed with parameters: {'pop_size': 17, 'indv_ants': 13, 'min_indv_ants': 10, 'max_indv_ants': 33, 'rho': 0.6431499202177753, 'min_rho': 0.7817720678636348, 'max_rho': 0.9603938800190379, 'alpha_mean': 8.72992219583024, 'alpha_std': 0.616706649087216, 'beta_mean': 4.101191132975295, 'beta_std': 0.5034046583996403, 'par_a_mean': 0.8579559715392244, 'par_a_std': 0.1937006161622577, 'par_b_mean': 0.9270725364282262, 'par_b_std': 0.3253116010148575, 'par_c_mean': 0.2229026563783868, 'par_c_std': 0.30183585914135974} because of the following error: AssertionError('\\ncommand:\\npython3 ../run.py --acopp_dir .. --instance_name eil51_01_bsc_05_01 --run_only --experiment --sol_dir solutions --silent 1 --postfix 1689254919.1035478 --no_default --chain_flags --lambda 17 --adapt_evap --cmaes --mean_ary 8.72992219583024:4.101191132975295:0.8579559715392244:0.9270725364282262:0.2229026563783868 --std_ary 0.616706649087216:0.5034046583996403:0.1937006161622577:0.3253116010148575:0.30183585914135974 --adpt_rho 0.6431499202177753:0.7817720678636348:0.9603938800190379 --indv_ants 13:10:33\\nreturncode: 1\\nstderr:\\nTraceback (most recent call last):\\n  File \"../run.py\", line 827, in <module>\\n    result = run_command(command)\\n  File \"../run.py\", line 790, in run_command\\n    assert (\\nAssertionError: \\ncommand:\\n$ ../acothop_experiment --tries 1 --seed 0 --time 5.0 --inputfile ../../../instances/eil51-thop/eil51_01_bsc_05_01.thop --outputfile solutions/eil51-thop/eil51_01_bsc_05_01_1689254919.1035478.thop.sol --log --lambda 17 --adapt_evap --cmaes --mean_ary 8.72992219583024:4.101191132975295:0.8579559715392244:0.9270725364282262:0.2229026563783868 --std_ary 0.616706649087216:0.5034046583996403:0.1937006161622577:0.3253116010148575:0.30183585914135974 --adpt_rho 0.6431499202177753:0.7817720678636348:0.9603938800190379 --indv_ants 13:10:33\\nreturncode: 1\\nstderr:\\n\\nstdout:\\nUsing CMA-ES\\nusing adaptive_evaporation_flag\\nSeed: 1689275240, Upper Bound 26724\\nPopsize=17\\nCMA-ES\\'s Initial parameters will be to solutions/eil51-thop/eil51_01_bsc_05_01_1689254919.1035478.thop.sol.1689275240.cmaes_initials.par.\\n\\n -- Fri Jul 14 02:07:20 2023\\n cmaes_readpara_ReadFromFile(): No valid dimension N\\n *** CMA-ES ABORTED, see errcmaes.err *** \\n\\n\\n\\nstdout:\\n\\n').\n",
      "Traceback (most recent call last):\n",
      "  File \"/mnt/wsl/Chomevincentdatalinuxhomevhd/user2/mambaforge-pypy3/envs/general/lib/python3.8/site-packages/optuna/study/_optimize.py\", line 200, in _run_trial\n",
      "    value_or_values = func(trial)\n",
      "  File \"/tmp/ipykernel_1766/1893608216.py\", line 53, in objective\n",
      "    objective_value += run_a_instance(mean_arr, std_arr, rho_arr, indv_ants_arr, pop_size) / n_run_each_trail\n",
      "  File \"/tmp/ipykernel_1766/1426536667.py\", line 33, in run_a_instance\n",
      "    result = run_command(command)\n",
      "  File \"/tmp/ipykernel_1766/1349914961.py\", line 3, in run_command\n",
      "    assert (\n",
      "AssertionError: \n",
      "command:\n",
      "python3 ../run.py --acopp_dir .. --instance_name eil51_01_bsc_05_01 --run_only --experiment --sol_dir solutions --silent 1 --postfix 1689254919.1035478 --no_default --chain_flags --lambda 17 --adapt_evap --cmaes --mean_ary 8.72992219583024:4.101191132975295:0.8579559715392244:0.9270725364282262:0.2229026563783868 --std_ary 0.616706649087216:0.5034046583996403:0.1937006161622577:0.3253116010148575:0.30183585914135974 --adpt_rho 0.6431499202177753:0.7817720678636348:0.9603938800190379 --indv_ants 13:10:33\n",
      "returncode: 1\n",
      "stderr:\n",
      "Traceback (most recent call last):\n",
      "  File \"../run.py\", line 827, in <module>\n",
      "    result = run_command(command)\n",
      "  File \"../run.py\", line 790, in run_command\n",
      "    assert (\n",
      "AssertionError: \n",
      "command:\n",
      "$ ../acothop_experiment --tries 1 --seed 0 --time 5.0 --inputfile ../../../instances/eil51-thop/eil51_01_bsc_05_01.thop --outputfile solutions/eil51-thop/eil51_01_bsc_05_01_1689254919.1035478.thop.sol --log --lambda 17 --adapt_evap --cmaes --mean_ary 8.72992219583024:4.101191132975295:0.8579559715392244:0.9270725364282262:0.2229026563783868 --std_ary 0.616706649087216:0.5034046583996403:0.1937006161622577:0.3253116010148575:0.30183585914135974 --adpt_rho 0.6431499202177753:0.7817720678636348:0.9603938800190379 --indv_ants 13:10:33\n",
      "returncode: 1\n",
      "stderr:\n",
      "\n",
      "stdout:\n",
      "Using CMA-ES\n",
      "using adaptive_evaporation_flag\n",
      "Seed: 1689275240, Upper Bound 26724\n",
      "Popsize=17\n",
      "CMA-ES's Initial parameters will be to solutions/eil51-thop/eil51_01_bsc_05_01_1689254919.1035478.thop.sol.1689275240.cmaes_initials.par.\n",
      "\n",
      " -- Fri Jul 14 02:07:20 2023\n",
      " cmaes_readpara_ReadFromFile(): No valid dimension N\n",
      " *** CMA-ES ABORTED, see errcmaes.err *** \n",
      "\n",
      "\n",
      "\n",
      "stdout:\n",
      "\n",
      "\n",
      "[W 2023-07-14 02:07:20,976] Trial 76 failed with value None.\n",
      "[I 2023-07-14 02:08:14,882] Trial 75 finished with value: -0.7959754287190047 and parameters: {'pop_size': 17, 'indv_ants': 13, 'min_indv_ants': 10, 'max_indv_ants': 33, 'rho': 0.7948792111239573, 'min_rho': 0.7660336226694795, 'max_rho': 0.9594452434290013, 'alpha_mean': 8.852084222756082, 'alpha_std': 0.6912164046661636, 'beta_mean': 4.225672522247686, 'beta_std': 0.5059074935939621, 'par_a_mean': 0.859056400725887, 'par_a_std': 0.19369778759104495, 'par_b_mean': 0.8867404190996521, 'par_b_std': 0.29398074546007213, 'par_c_mean': 0.1973733795125833, 'par_c_std': 0.30058584528007504}. Best is trial 2 with value: 0.4900116244079389.\n",
      "[I 2023-07-14 02:14:42,673] Trial 77 finished with value: -2.3388904669712813 and parameters: {'pop_size': 17, 'indv_ants': 13, 'min_indv_ants': 10, 'max_indv_ants': 29, 'rho': 0.748475041773058, 'min_rho': 0.7704533746031326, 'max_rho': 0.9554079335959015, 'alpha_mean': 8.614139165355018, 'alpha_std': 0.49193535417725676, 'beta_mean': 4.270867282303915, 'beta_std': 0.567831775026171, 'par_a_mean': 0.864830815069428, 'par_a_std': 0.18835609116285096, 'par_b_mean': 0.9326279997464186, 'par_b_std': 0.38951151679452817, 'par_c_mean': 0.19783854479356017, 'par_c_std': 0.3023327508832844}. Best is trial 2 with value: 0.4900116244079389.\n",
      "[I 2023-07-14 02:15:49,217] Trial 79 finished with value: -3.537317560517659 and parameters: {'pop_size': 19, 'indv_ants': 14, 'min_indv_ants': 50, 'max_indv_ants': 59, 'rho': 0.8173745170365498, 'min_rho': 0.9309762838317228, 'max_rho': 0.9862657884417793, 'alpha_mean': 8.375989246562439, 'alpha_std': 0.7940766228886202, 'beta_mean': 3.4038764898489178, 'beta_std': 0.7791184556057925, 'par_a_mean': 0.968426068969014, 'par_a_std': 0.05230744844826048, 'par_b_mean': 0.8311998438288166, 'par_b_std': 0.3256875344701254, 'par_c_mean': 0.2328060625870818, 'par_c_std': 0.27671285526175216}. Best is trial 2 with value: 0.4900116244079389.\n",
      "[I 2023-07-14 02:18:17,587] Trial 78 finished with value: -4.4484021662314035 and parameters: {'pop_size': 10, 'indv_ants': 14, 'min_indv_ants': 8, 'max_indv_ants': 40, 'rho': 0.8257261161113583, 'min_rho': 0.8705787582610471, 'max_rho': 0.9825423076279938, 'alpha_mean': 8.353375591119908, 'alpha_std': 0.7786995232550042, 'beta_mean': 3.276620041588995, 'beta_std': 0.6315558085751024, 'par_a_mean': 0.965100815690201, 'par_a_std': 0.06473595836229322, 'par_b_mean': 0.743863391569367, 'par_b_std': 0.32746291752788304, 'par_c_mean': 0.22672648383848373, 'par_c_std': 0.27080119996361035}. Best is trial 2 with value: 0.4900116244079389.\n",
      "[I 2023-07-14 02:18:57,442] Trial 80 finished with value: -4.3031898437742795 and parameters: {'pop_size': 10, 'indv_ants': 14, 'min_indv_ants': 45, 'max_indv_ants': 46, 'rho': 0.8965106225262106, 'min_rho': 0.9252082188985268, 'max_rho': 0.9833405325468572, 'alpha_mean': 8.349708419583044, 'alpha_std': 1.9666473669767022, 'beta_mean': 3.378404320131448, 'beta_std': 0.7855536770526435, 'par_a_mean': 0.9668843698982851, 'par_a_std': 0.045383113451503976, 'par_b_mean': 0.7427813801608931, 'par_b_std': 0.0725283789587729, 'par_c_mean': 0.22850288822642578, 'par_c_std': 0.2702155328630022}. Best is trial 2 with value: 0.4900116244079389.\n",
      "[I 2023-07-14 02:22:18,839] Trial 83 finished with value: -1.473786587241391 and parameters: {'pop_size': 14, 'indv_ants': 16, 'min_indv_ants': 57, 'max_indv_ants': 60, 'rho': 0.6345837058900204, 'min_rho': 0.9008020998180141, 'max_rho': 0.9758023479789131, 'alpha_mean': 7.151629646818964, 'alpha_std': 1.644422155072695, 'beta_mean': 1.6528482512586777, 'beta_std': 0.015875232371179826, 'par_a_mean': 0.7896553069531648, 'par_a_std': 0.14888195275237434, 'par_b_mean': 0.7876048895804874, 'par_b_std': 0.3132924626583362, 'par_c_mean': 0.280455119584029, 'par_c_std': 0.2905474155600469}. Best is trial 2 with value: 0.4900116244079389.\n",
      "[I 2023-07-14 02:24:41,730] Trial 81 finished with value: -2.6877269703189866 and parameters: {'pop_size': 14, 'indv_ants': 16, 'min_indv_ants': 58, 'max_indv_ants': 60, 'rho': 0.6390338506854504, 'min_rho': 0.9049386831832124, 'max_rho': 0.9845430788241311, 'alpha_mean': 9.729962228915191, 'alpha_std': 0.3456119871302501, 'beta_mean': 1.6357558355082693, 'beta_std': 0.16401410730731975, 'par_a_mean': 0.7945598668248535, 'par_a_std': 0.09580364241300401, 'par_b_mean': 0.8032454244761632, 'par_b_std': 0.3171973861741028, 'par_c_mean': 0.27584092906465135, 'par_c_std': 0.2925840359785732}. Best is trial 2 with value: 0.4900116244079389.\n",
      "[I 2023-07-14 02:27:02,506] Trial 82 finished with value: -1.4376514861684468 and parameters: {'pop_size': 18, 'indv_ants': 16, 'min_indv_ants': 4, 'max_indv_ants': 36, 'rho': 0.6496617582056573, 'min_rho': 0.9022529150912104, 'max_rho': 0.9802398195985832, 'alpha_mean': 7.2109651910658865, 'alpha_std': 1.5835175116295566, 'beta_mean': 1.5495373170406452, 'beta_std': 0.1789119739283543, 'par_a_mean': 0.9079897140526794, 'par_a_std': 0.09722982418754937, 'par_b_mean': 0.7955103750925401, 'par_b_std': 0.04563823350421107, 'par_c_mean': 0.1203655982005464, 'par_c_std': 0.2509525436409886}. Best is trial 2 with value: 0.4900116244079389.\n",
      "[I 2023-07-14 02:29:18,967] Trial 85 finished with value: -2.458872797529382 and parameters: {'pop_size': 16, 'indv_ants': 12, 'min_indv_ants': 10, 'max_indv_ants': 29, 'rho': 0.7854540176866925, 'min_rho': 0.8578877394365375, 'max_rho': 0.9672585285849599, 'alpha_mean': 8.804417298350018, 'alpha_std': 0.6678539623644814, 'beta_mean': 4.182439386681982, 'beta_std': 0.5249419961980442, 'par_a_mean': 0.8572568368574061, 'par_a_std': 0.2003749152040223, 'par_b_mean': 0.8838641117550097, 'par_b_std': 0.2841212961844793, 'par_c_mean': 0.1888543389694532, 'par_c_std': 0.3062363820440209}. Best is trial 2 with value: 0.4900116244079389.\n",
      "[I 2023-07-14 02:33:48,366] Trial 84 finished with value: -0.9018680287955239 and parameters: {'pop_size': 16, 'indv_ants': 12, 'min_indv_ants': 10, 'max_indv_ants': 33, 'rho': 0.7822706748807161, 'min_rho': 0.7397497136480501, 'max_rho': 0.9600008273427638, 'alpha_mean': 9.112142069207561, 'alpha_std': 0.5800238479131763, 'beta_mean': 4.23015366299356, 'beta_std': 0.5008855408276854, 'par_a_mean': 0.8570493194196389, 'par_a_std': 0.2018370313590082, 'par_b_mean': 0.8805787626722499, 'par_b_std': 0.2748973400264152, 'par_c_mean': 0.18006360783315692, 'par_c_std': 0.3208383251478336}. Best is trial 2 with value: 0.4900116244079389.\n",
      "[I 2023-07-14 02:44:43,976] Trial 86 finished with value: -0.989017011147059 and parameters: {'pop_size': 16, 'indv_ants': 12, 'min_indv_ants': 10, 'max_indv_ants': 33, 'rho': 0.7756308270927318, 'min_rho': 0.7534991676111106, 'max_rho': 0.9587445754645032, 'alpha_mean': 8.839461119733494, 'alpha_std': 0.672352556593937, 'beta_mean': 4.0476354323402735, 'beta_std': 0.5151845170491199, 'par_a_mean': 0.8485684300762321, 'par_a_std': 0.19407233950492347, 'par_b_mean': 0.9042007984738958, 'par_b_std': 0.2969822940029375, 'par_c_mean': 0.18448013816423306, 'par_c_std': 0.31695344828365835}. Best is trial 2 with value: 0.4900116244079389.\n",
      "[I 2023-07-14 02:46:59,256] Trial 88 finished with value: -0.15924484340494652 and parameters: {'pop_size': 17, 'indv_ants': 13, 'min_indv_ants': 13, 'max_indv_ants': 56, 'rho': 0.6768992909284636, 'min_rho': 0.7900009961616079, 'max_rho': 0.9632807330716879, 'alpha_mean': 8.915252628268345, 'alpha_std': 1.230022886378962, 'beta_mean': 3.083145413515662, 'beta_std': 0.6574123810669603, 'par_a_mean': 0.8890637267939523, 'par_a_std': 0.18172282389840597, 'par_b_mean': 0.9308050328592016, 'par_b_std': 0.30311758214010687, 'par_c_mean': 0.08736132083225598, 'par_c_std': 0.28236312524307955}. Best is trial 2 with value: 0.4900116244079389.\n",
      "[I 2023-07-14 02:50:33,195] Trial 87 finished with value: -4.265009765812174 and parameters: {'pop_size': 17, 'indv_ants': 13, 'min_indv_ants': 13, 'max_indv_ants': 37, 'rho': 0.6771414290360683, 'min_rho': 0.7888381948512477, 'max_rho': 0.9661290257535484, 'alpha_mean': 9.271234727301229, 'alpha_std': 0.8911358849058996, 'beta_mean': 3.6640129447496377, 'beta_std': 0.6509292306908571, 'par_a_mean': 0.8864700683837766, 'par_a_std': 0.1844185584456953, 'par_b_mean': 0.8454924412111425, 'par_b_std': 0.3346566980599565, 'par_c_mean': 0.12138585931803239, 'par_c_std': 0.3432435248494598}. Best is trial 2 with value: 0.4900116244079389.\n",
      "[I 2023-07-14 03:06:26,781] Trial 89 finished with value: -2.4901938062920737 and parameters: {'pop_size': 17, 'indv_ants': 13, 'min_indv_ants': 6, 'max_indv_ants': 26, 'rho': 0.6818010540115589, 'min_rho': 0.7877670070818246, 'max_rho': 0.9650409289982324, 'alpha_mean': 9.20986417316366, 'alpha_std': 1.1045909334958246, 'beta_mean': 3.552136047877871, 'beta_std': 0.2662872945628263, 'par_a_mean': 0.881323905490007, 'par_a_std': 0.18219281579162874, 'par_b_mean': 0.925956949573606, 'par_b_std': 0.2984997265982152, 'par_c_mean': 0.08528427291275859, 'par_c_std': 0.3421595145932278}. Best is trial 2 with value: 0.4900116244079389.\n",
      "[I 2023-07-14 03:08:50,947] Trial 91 finished with value: -5.501319814869697 and parameters: {'pop_size': 19, 'indv_ants': 10, 'min_indv_ants': 17, 'max_indv_ants': 55, 'rho': 0.7121628604321422, 'min_rho': 0.8247818243815338, 'max_rho': 0.9635431693193994, 'alpha_mean': 8.583878724234912, 'alpha_std': 1.301919437811197, 'beta_mean': 3.0618172849730465, 'beta_std': 1.0002768299558495, 'par_a_mean': 0.9886136888260851, 'par_a_std': 0.13495328124356432, 'par_b_mean': 0.9972850276049501, 'par_b_std': 0.3458721234539386, 'par_c_mean': 0.15240594712332442, 'par_c_std': 0.27636455742584237}. Best is trial 2 with value: 0.4900116244079389.\n",
      "[I 2023-07-14 03:15:31,272] Trial 90 finished with value: -4.1573484419700275 and parameters: {'pop_size': 19, 'indv_ants': 14, 'min_indv_ants': 17, 'max_indv_ants': 55, 'rho': 0.7425277677542065, 'min_rho': 0.9616339064131494, 'max_rho': 0.9792896036702446, 'alpha_mean': 7.649167974612592, 'alpha_std': 1.3170110076346586, 'beta_mean': 2.9819126953603523, 'beta_std': 1.037066906393243, 'par_a_mean': 0.9325204773154997, 'par_a_std': 0.13372244654176332, 'par_b_mean': 0.9991688510983867, 'par_b_std': 0.26290127254212914, 'par_c_mean': 0.040871043863820206, 'par_c_std': 0.27953137945037654}. Best is trial 2 with value: 0.4900116244079389.\n",
      "[I 2023-07-14 03:20:42,997] Trial 92 finished with value: -1.640858727250415 and parameters: {'pop_size': 19, 'indv_ants': 9, 'min_indv_ants': 17, 'max_indv_ants': 58, 'rho': 0.7127762998888922, 'min_rho': 0.9638718145073663, 'max_rho': 0.9792976037261497, 'alpha_mean': 8.628951082280494, 'alpha_std': 1.2380603707600117, 'beta_mean': 2.99357482578232, 'beta_std': 0.7085184587613381, 'par_a_mean': 0.9400311365721744, 'par_a_std': 0.1340148166244045, 'par_b_mean': 0.9755485838211201, 'par_b_std': 0.25570855940673637, 'par_c_mean': 0.055995521261955034, 'par_c_std': 0.2578272508920947}. Best is trial 2 with value: 0.4900116244079389.\n",
      "[I 2023-07-14 03:23:38,061] Trial 94 finished with value: -5.899148600052046 and parameters: {'pop_size': 18, 'indv_ants': 13, 'min_indv_ants': 13, 'max_indv_ants': 57, 'rho': 0.7492278965668181, 'min_rho': 0.7101223819284892, 'max_rho': 0.9493389719555949, 'alpha_mean': 8.940962251521348, 'alpha_std': 0.976706930255988, 'beta_mean': 2.026561613593912, 'beta_std': 0.2928369678084009, 'par_a_mean': 0.9195592305013828, 'par_a_std': 0.15835215117855453, 'par_b_mean': 0.9442940585988735, 'par_b_std': 0.2952486009656129, 'par_c_mean': 0.1034052399886182, 'par_c_std': 0.3288328135363167}. Best is trial 2 with value: 0.4900116244079389.\n",
      "[I 2023-07-14 03:30:16,957] Trial 95 finished with value: -0.9300882338606202 and parameters: {'pop_size': 18, 'indv_ants': 13, 'min_indv_ants': 13, 'max_indv_ants': 57, 'rho': 0.7512861714196636, 'min_rho': 0.7204376110210466, 'max_rho': 0.944326082816372, 'alpha_mean': 9.040462166742424, 'alpha_std': 0.9989605267362272, 'beta_mean': 2.3946157076675876, 'beta_std': 0.4431950222717772, 'par_a_mean': 0.9172385137400895, 'par_a_std': 0.16172137278236154, 'par_b_mean': 0.9414587024990156, 'par_b_std': 0.2956155532339365, 'par_c_mean': 0.21007485771165668, 'par_c_std': 0.29779379254545757}. Best is trial 2 with value: 0.4900116244079389.\n",
      "[I 2023-07-14 03:39:01,006] Trial 93 finished with value: -0.8934570996190095 and parameters: {'pop_size': 18, 'indv_ants': 13, 'min_indv_ants': 13, 'max_indv_ants': 34, 'rho': 0.7584333838390771, 'min_rho': 0.7061286574848747, 'max_rho': 0.945175899582008, 'alpha_mean': 8.87878710577623, 'alpha_std': 1.0292152052459373, 'beta_mean': 2.377913469902005, 'beta_std': 0.43226729726111374, 'par_a_mean': 0.9130444278863983, 'par_a_std': 0.16380863331195084, 'par_b_mean': 0.9495938567986154, 'par_b_std': 0.29115602150556896, 'par_c_mean': 0.2098061217407882, 'par_c_std': 0.30463942445068004}. Best is trial 2 with value: 0.4900116244079389.\n",
      "[I 2023-07-14 03:40:10,184] Trial 98 finished with value: -3.6471497970526805 and parameters: {'pop_size': 20, 'indv_ants': 14, 'min_indv_ants': 8, 'max_indv_ants': 30, 'rho': 0.7962965871767336, 'min_rho': 0.9399009617786378, 'max_rho': 0.9812201065040737, 'alpha_mean': 8.022983015781698, 'alpha_std': 1.134969149021748, 'beta_mean': 3.9315532798029706, 'beta_std': 0.588553702229454, 'par_a_mean': 0.8268466458274757, 'par_a_std': 0.14674909251596538, 'par_b_mean': 0.8545815037681864, 'par_b_std': 0.324216318413781, 'par_c_mean': 0.24969896777722356, 'par_c_std': 0.2860357756037703}. Best is trial 2 with value: 0.4900116244079389.\n",
      "[I 2023-07-14 03:48:16,406] Trial 96 finished with value: -2.8677769901914734 and parameters: {'pop_size': 20, 'indv_ants': 14, 'min_indv_ants': 40, 'max_indv_ants': 41, 'rho': 0.7979469947526566, 'min_rho': 0.8091634280987308, 'max_rho': 0.970083048099868, 'alpha_mean': 9.426397309611826, 'alpha_std': 1.1800958511486308, 'beta_mean': 3.8863137609769027, 'beta_std': 0.5813672813792864, 'par_a_mean': 0.9535319161542923, 'par_a_std': 0.1229997718375361, 'par_b_mean': 0.8217479604311536, 'par_b_std': 0.3120764247222247, 'par_c_mean': 0.24624299002636596, 'par_c_std': 0.28485061152875407}. Best is trial 2 with value: 0.4900116244079389.\n",
      "[I 2023-07-14 03:49:20,900] Trial 97 finished with value: -2.213399085053547 and parameters: {'pop_size': 20, 'indv_ants': 14, 'min_indv_ants': 40, 'max_indv_ants': 41, 'rho': 0.9335870044664538, 'min_rho': 0.8674448691103545, 'max_rho': 0.9685832146785797, 'alpha_mean': 9.421827239951472, 'alpha_std': 0.8424182516783189, 'beta_mean': 3.989419231262938, 'beta_std': 0.5936771599204893, 'par_a_mean': 0.8294501310455011, 'par_a_std': 0.17651054128134144, 'par_b_mean': 0.8910042556729564, 'par_b_std': 0.3060176723643343, 'par_c_mean': 0.1671619099361896, 'par_c_std': 0.2850782192126334}. Best is trial 2 with value: 0.4900116244079389.\n",
      "[I 2023-07-14 03:52:17,475] Trial 100 finished with value: -4.710714421232574 and parameters: {'pop_size': 12, 'indv_ants': 15, 'min_indv_ants': 53, 'max_indv_ants': 54, 'rho': 0.5932119420633514, 'min_rho': 0.7602391406365807, 'max_rho': 0.9570447046995073, 'alpha_mean': 9.796505607923171, 'alpha_std': 0.43032995657154105, 'beta_mean': 2.148976119603242, 'beta_std': 0.20447699202104208, 'par_a_mean': 0.8803497607266341, 'par_a_std': 0.21578036898376665, 'par_b_mean': 0.9221157763443673, 'par_b_std': 0.3509427337641264, 'par_c_mean': 0.34633635200155766, 'par_c_std': 0.3012848870348302}. Best is trial 2 with value: 0.4900116244079389.\n",
      "[I 2023-07-14 03:54:24,476] Trial 99 finished with value: -1.7477252306063118 and parameters: {'pop_size': 12, 'indv_ants': 15, 'min_indv_ants': 6, 'max_indv_ants': 32, 'rho': 0.6958254502723166, 'min_rho': 0.7631292662477217, 'max_rho': 0.9590136815094341, 'alpha_mean': 9.664881251340844, 'alpha_std': 1.5233762507782198, 'beta_mean': 4.416288439140892, 'beta_std': 0.365767950303336, 'par_a_mean': 0.8840864426236633, 'par_a_std': 0.20953856029876855, 'par_b_mean': 0.9069199267500321, 'par_b_std': 0.35276478709004644, 'par_c_mean': 0.3391952577422039, 'par_c_std': 0.298494432250562}. Best is trial 2 with value: 0.4900116244079389.\n",
      "[I 2023-07-14 04:24:27,860] Trial 101 finished with value: -2.768604748142122 and parameters: {'pop_size': 15, 'indv_ants': 15, 'min_indv_ants': 21, 'max_indv_ants': 32, 'rho': 0.8777936593396066, 'min_rho': 0.764802223952592, 'max_rho': 0.9586552739070042, 'alpha_mean': 9.774151344508438, 'alpha_std': 0.44093978708154064, 'beta_mean': 2.1186303621554003, 'beta_std': 0.8217620309126504, 'par_a_mean': 0.9806405642634352, 'par_a_std': 0.21524154871144827, 'par_b_mean': 0.9171164765147831, 'par_b_std': 0.2683206148992475, 'par_c_mean': 0.2985279385060521, 'par_c_std': 0.2943962423210311}. Best is trial 2 with value: 0.4900116244079389.\n"
     ]
    }
   ],
   "source": [
    "with open(save_path, \"rb\") as f:\n",
    "    study = pickle.load(f)\n",
    "    \n",
    "while (len(study.trials) < total_trial):\n",
    "    study.optimize(objective, n_trials=save_each_n_trial, n_jobs=n_jobs)\n",
    "    with open(save_path, \"wb\") as f:\n",
    "        pickle.dump(study, f)"
   ]
  }
 ],
 "metadata": {
  "kernelspec": {
   "display_name": "Python 3",
   "language": "python",
   "name": "python3"
  },
  "language_info": {
   "codemirror_mode": {
    "name": "ipython",
    "version": 3
   },
   "file_extension": ".py",
   "mimetype": "text/x-python",
   "name": "python",
   "nbconvert_exporter": "python",
   "pygments_lexer": "ipython3",
   "version": "3.8.15"
  },
  "orig_nbformat": 4
 },
 "nbformat": 4,
 "nbformat_minor": 2
}
