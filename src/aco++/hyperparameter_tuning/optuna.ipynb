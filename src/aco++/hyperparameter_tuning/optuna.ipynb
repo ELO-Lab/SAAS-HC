{
 "cells": [
  {
   "cell_type": "code",
   "execution_count": null,
   "metadata": {},
   "outputs": [],
   "source": [
    "import optuna\n",
    "import subprocess\n",
    "\n",
    "def objective(trial):\n",
    "    cluster_size = trial.suggest_int(\"cluster_size / 2\", 1, 18) * 2\n",
    "    sector = trial.suggest_int(\"sector / 2\", 1, max(1, cluster_size // 2)) * 2\n",
    "    postfix = f\"nc_bruce_clustersize_{cluster_size}_sector_{sector}\"\n",
    "    command = [\n",
    "        \"./acothop_nc_bruce\",\n",
    "        \"--tries\",\n",
    "        \"1\",\n",
    "        \"--seed\",\n",
    "        \"269070\",\n",
    "        \"--inputfile\",\n",
    "        \"../../instances/eil51-thop/eil51_10_usw_10_03.thop\",\n",
    "        \"--outputfile\",\n",
    "        f\"../../solutions/temp/aco++/eil51-thop/eil51_10_usw_10_03_{postfix}.thop.sol\",\n",
    "        \"--ants\",\n",
    "        \"100.0\",\n",
    "        \"--alpha\",\n",
    "        \"0.86\",\n",
    "        \"--beta\",\n",
    "        \"3.89\",\n",
    "        \"--rho\",\n",
    "        \"0.5\",\n",
    "        \"--ptries\",\n",
    "        \"1\",\n",
    "        \"--localsearch\",\n",
    "        \"1\",\n",
    "        \"--log\",\n",
    "        \"--q0\",\n",
    "        \"0.0\",\n",
    "        \"--mmas\",\n",
    "        \"--adapt_evap\",\n",
    "        \"--nodeclustering\",\n",
    "        \"--sector\",\n",
    "        str(sector),\n",
    "        \"--clustersize\",\n",
    "        str(cluster_size),\n",
    "        \"--n_cluster\",\n",
    "        \"4\",\n",
    "        \"--logiter\"]\n",
    "    \n",
    "    profit = 0\n",
    "    try:\n",
    "        result = subprocess.run(command, capture_output=True, check=True)\n",
    "        stdout_log = result.stdout.decode()\n",
    "        \n",
    "        profit = int(stdout_log.split(': ')[1])\n",
    "        # print(profit)\n",
    "    except:\n",
    "        profit = -1\n",
    "    return profit\n",
    "\n",
    "study = optuna.create_study(direction='maximize')\n",
    "study.optimize(objective, n_trials=1150, n_jobs= -1)\n",
    "\n",
    "print(study.best_params)\n"
   ]
  },
  {
   "cell_type": "code",
   "execution_count": null,
   "metadata": {},
   "outputs": [],
   "source": [
    "import pickle\n",
    "\n",
    "with open(\"study.pickle\", \"wb\") as f:\n",
    "    pickle.dump(study,f)"
   ]
  },
  {
   "cell_type": "code",
   "execution_count": null,
   "metadata": {},
   "outputs": [],
   "source": [
    "optuna.visualization.plot_param_importances(\n",
    "    study, target=lambda t: t.values[0], target_name=\"flops\"\n",
    ")"
   ]
  }
 ],
 "metadata": {
  "kernelspec": {
   "display_name": "Python 3",
   "language": "python",
   "name": "python3"
  },
  "language_info": {
   "codemirror_mode": {
    "name": "ipython",
    "version": 3
   },
   "file_extension": ".py",
   "mimetype": "text/x-python",
   "name": "python",
   "nbconvert_exporter": "python",
   "pygments_lexer": "ipython3",
   "version": "3.9.16"
  },
  "orig_nbformat": 4
 },
 "nbformat": 4,
 "nbformat_minor": 2
}
