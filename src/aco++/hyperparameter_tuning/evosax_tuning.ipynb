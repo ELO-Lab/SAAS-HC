{
 "cells": [
  {
   "cell_type": "code",
   "execution_count": 17,
   "metadata": {},
   "outputs": [],
   "source": [
    "# Function"
   ]
  },
  {
   "cell_type": "code",
   "execution_count": 49,
   "metadata": {},
   "outputs": [],
   "source": [
    "from pathlib import Path\n",
    "import subprocess\n",
    "import pickle\n",
    "import numpy as np\n",
    "import pandas as pd\n",
    "import time\n",
    "import multiprocessing\n",
    "import concurrent.futures\n",
    "import os"
   ]
  },
  {
   "cell_type": "code",
   "execution_count": 19,
   "metadata": {},
   "outputs": [],
   "source": [
    "def random_choose_index():\n",
    "    import numpy as np\n",
    "    global idx, df\n",
    "    \n",
    "    return np.random.choice(idx, p=df.prob)"
   ]
  },
  {
   "cell_type": "code",
   "execution_count": 20,
   "metadata": {},
   "outputs": [],
   "source": [
    "def run_command(command):\n",
    "    import subprocess\n",
    "    \n",
    "    result = subprocess.run(command, capture_output=True)\n",
    "    assert (\n",
    "        result.returncode == 0\n",
    "    ), f\"\"\"\n",
    "command:\n",
    "{' '.join(command)}\n",
    "returncode: {result.returncode}\n",
    "stderr:\n",
    "{result.stderr.decode()}\n",
    "stdout:\n",
    "{result.stdout.decode()}\n",
    "\"\"\"\n",
    "    return result"
   ]
  },
  {
   "cell_type": "code",
   "execution_count": 21,
   "metadata": {},
   "outputs": [],
   "source": [
    "def run_a_instance(chain_flags, instance_name, acopp_profit, seed):\n",
    "    global debug_mode, debug_time, acopp_dir, sol_dir, postfix\n",
    "\n",
    "    command = [\n",
    "        'python3',\n",
    "        f'{acopp_dir}/run.py',\n",
    "        '--acopp_dir',\n",
    "        str(acopp_dir),\n",
    "        '--instance_name',\n",
    "        instance_name,\n",
    "        '--run_only',\n",
    "        '--experiment',\n",
    "        # '--no_log',\n",
    "        '--sol_dir',\n",
    "        str(sol_dir),\n",
    "        '--silent',\n",
    "        '1',\n",
    "        \"--postfix\",\n",
    "        str(postfix),\n",
    "        \"--random_seed\",\n",
    "        str(seed),\n",
    "        \n",
    "        '--no_default',\n",
    "        \"--chain_flags\",\n",
    "        str(chain_flags),\n",
    "    ]\n",
    "\n",
    "    if debug_mode:\n",
    "        command += [\"--time\", str(debug_time)]\n",
    "    \n",
    "    result = run_command(command)\n",
    "    stdout_log = result.stdout.decode()\n",
    "    profit = int(stdout_log)\n",
    "    \n",
    "    gain_percent = (profit - acopp_profit) / acopp_profit * 100\n",
    "    return gain_percent"
   ]
  },
  {
   "cell_type": "code",
   "execution_count": 22,
   "metadata": {},
   "outputs": [],
   "source": [
    "def to_arr_flag(a_list):\n",
    "    arr_flag = map(str, a_list)\n",
    "    arr_flag = \":\".join(arr_flag)\n",
    "    return arr_flag"
   ]
  },
  {
   "cell_type": "code",
   "execution_count": 23,
   "metadata": {},
   "outputs": [],
   "source": [
    "def to_chain_flags(params):\n",
    "    global index_dict\n",
    "    \n",
    "    alpha_mean = params[index_dict[\"alpha_mean\"]]\n",
    "    beta_mean = params[index_dict[\"beta_mean\"]]\n",
    "    par_a_mean = params[index_dict[\"par_a_mean\"]]\n",
    "    par_b_mean = params[index_dict[\"par_b_mean\"]]\n",
    "    par_c_mean = params[index_dict[\"par_c_mean\"]]\n",
    "\n",
    "    alpha_std = params[index_dict[\"alpha_std\"]]\n",
    "    beta_std = params[index_dict[\"beta_std\"]]\n",
    "    par_a_std = params[index_dict[\"par_a_std\"]]\n",
    "    par_b_std = params[index_dict[\"par_b_std\"]]\n",
    "    par_c_std = params[index_dict[\"par_c_std\"]]\n",
    "\n",
    "    rho = params[index_dict[\"rho\"]]\n",
    "    min_rho = params[index_dict[\"min_rho\"]]\n",
    "    max_rho = params[index_dict[\"max_rho\"]]\n",
    "\n",
    "    indv_ants = params[index_dict[\"indv_ants\"]]\n",
    "    min_indv_ants = params[index_dict[\"min_indv_ants\"]]\n",
    "    max_indv_ants = params[index_dict[\"max_indv_ants\"]]\n",
    "\n",
    "    pop_size = params[index_dict[\"pop_size\"]]\n",
    "\n",
    "    mean_arr = to_arr_flag([alpha_mean, beta_mean, par_a_mean, par_b_mean, par_c_mean])\n",
    "    std_arr = to_arr_flag([alpha_std, beta_std, par_a_std, par_b_std, par_c_std])\n",
    "    rho_arr = to_arr_flag([rho, min_rho, max_rho])\n",
    "    indv_ants_arr = to_arr_flag([indv_ants, min_indv_ants, max_indv_ants])\n",
    "\n",
    "    chain_flags = f\"--lambda {pop_size} --adapt_evap --cmaes --mean_ary {mean_arr} --std_ary {std_arr} --adpt_rho {rho_arr} --indv_ants {indv_ants_arr}\"\n",
    "    return chain_flags"
   ]
  },
  {
   "cell_type": "code",
   "execution_count": 24,
   "metadata": {},
   "outputs": [],
   "source": [
    "def evaluate_pop(pop_params):\n",
    "    global n_run_each_trail, executor, eval_call_count\n",
    "\n",
    "    tasks = []\n",
    "    for i in range(len(pop_params)):\n",
    "        chain_flags =  to_chain_flags(pop_params[i])\n",
    "        for j in range(n_run_each_trail):\n",
    "            df_idx = random_choose_index()\n",
    "\n",
    "            t_idx = i * n_run_each_trail + j\n",
    "            assert t_idx == tasks[t_idx]\n",
    "\n",
    "            eval_call_count += 1\n",
    "            tasks.append((\n",
    "                chain_flags,\n",
    "                df.loc[df_idx].instance,\n",
    "                df.loc[df_idx].acopp_profit,\n",
    "                eval_call_count,\n",
    "                ))\n",
    "\n",
    "    objective_values = executor.map(run_a_instance, *tasks)\n",
    "    objective_values = np.array(list(objective_values))\n",
    "    objective_values = objective_values.reshape((len(pop_params), n_run_each_trail))\n",
    "    objective_values = objective_values.mean(axis=1)\n",
    "    \n",
    "    return - objective_values"
   ]
  },
  {
   "cell_type": "code",
   "execution_count": null,
   "metadata": {},
   "outputs": [],
   "source": [
    "def save_study():\n",
    "    global eval_call_count, state, rng, save_path, prev_best, prev_prev_best\n",
    "\n",
    "    study = {\n",
    "        \"eval_call_count\": eval_call_count,\n",
    "        \"state\": state,\n",
    "        \"rng\": rng,\n",
    "        \"strategy\": strategy,\n",
    "        \"prev_best\", prev_best,\n",
    "        \"prev_prev_best\", prev_prev_best,\n",
    "    }\n",
    "\n",
    "    with open(save_path, \"wb\") as f:\n",
    "        pickle.dump(study, f)"
   ]
  },
  {
   "cell_type": "code",
   "execution_count": null,
   "metadata": {},
   "outputs": [],
   "source": [
    "def load_study():\n",
    "    global eval_call_count, state, rng, save_path, prev_best, prev_prev_best\n",
    "\n",
    "    with open(save_path, \"rb\") as f:\n",
    "        study = pickle.load(f)\n",
    "    \n",
    "    eval_call_count = study[\"eval_call_count\"]\n",
    "    state = study[\"state\"]\n",
    "    rng = study[\"rng\"]\n",
    "    strategy = study[\"strategy\"]\n",
    "    prev_best = study[\"prev_best\"]\n",
    "    prev_prev_best = study[\"prev_prev_best\"]"
   ]
  },
  {
   "cell_type": "code",
   "execution_count": null,
   "metadata": {},
   "outputs": [],
   "source": [
    "def repair_pop(pop_params):\n",
    "    ??"
   ]
  },
  {
   "cell_type": "markdown",
   "metadata": {},
   "source": [
    "# Config"
   ]
  },
  {
   "cell_type": "code",
   "execution_count": 25,
   "metadata": {},
   "outputs": [
    {
     "name": "stdout",
     "output_type": "stream",
     "text": [
      "2\n"
     ]
    }
   ],
   "source": [
    "acopp_dir = Path(\"../\")\n",
    "save_path = Path(\"./study.pkl\")\n",
    "sol_dir = Path(\"./solutions\")\n",
    "postfix = time.time()\n",
    "\n",
    "# total_trial = 1000\n",
    "# total_trial = 100\n",
    "n_jobs = max(1, multiprocessing.cpu_count() // 2)\n",
    "n_run_each_trail = 10\n",
    "save_each_n_trial = n_jobs\n",
    "\n",
    "# debug_mode = False\n",
    "debug_mode = True\n",
    "debug_time = 10\n",
    "if debug_mode:\n",
    "    n_jobs = 2\n",
    "    n_run_each_trail = n_jobs\n",
    "    total_trial = n_run_each_trail + 1\n",
    "    save_each_n_trial = n_jobs\n",
    "\n",
    "print(n_jobs)"
   ]
  },
  {
   "cell_type": "markdown",
   "metadata": {},
   "source": [
    "# Prepare"
   ]
  },
  {
   "cell_type": "code",
   "execution_count": null,
   "metadata": {},
   "outputs": [],
   "source": [
    "# Build\n",
    "command = [\n",
    "    'python3',\n",
    "    f'{acopp_dir}/run.py',\n",
    "    '--acopp_dir',\n",
    "    str(acopp_dir),\n",
    "    '--build_only',\n",
    "    '--experiment'\n",
    "    ]\n",
    "result = run_command(command)\n",
    "print(result.stdout.decode())"
   ]
  },
  {
   "cell_type": "code",
   "execution_count": null,
   "metadata": {},
   "outputs": [],
   "source": [
    "executor =  concurrent.futures.ThreadPoolExecutor(max_workers=n_jobs)"
   ]
  },
  {
   "cell_type": "code",
   "execution_count": null,
   "metadata": {},
   "outputs": [],
   "source": [
    "df = pd.read_csv(\"./es_ant_gain_percent.csv\")\n",
    "df.describe()"
   ]
  },
  {
   "cell_type": "code",
   "execution_count": null,
   "metadata": {},
   "outputs": [],
   "source": [
    "idx = np.arange(len(df.instance))"
   ]
  },
  {
   "cell_type": "code",
   "execution_count": null,
   "metadata": {},
   "outputs": [],
   "source": [
    "index_dict = {\n",
    "    \"alpha_mean\": 0,\n",
    "    \"beta_mean\": 1,\n",
    "    \"par_a_mean\": 2,\n",
    "    \"par_b_mean\": 3,\n",
    "    \"par_c_mean\": 4,\n",
    "\n",
    "    \"alpha_std\": 5,\n",
    "    \"beta_std\": 6,\n",
    "    \"par_a_std\": 7,\n",
    "    \"par_b_std\": 8,\n",
    "    \"par_c_std\": 9,\n",
    "\n",
    "    \"rho\": 10,\n",
    "    \"min_rho\": 11,\n",
    "    \"max_rho\": 12,\n",
    "\n",
    "    \"indv_ants\": 13,\n",
    "    \"min_indv_ants\": 14,\n",
    "    \"max_indv_ants\": 15,\n",
    "\n",
    "    \"pop_size\": 16,\n",
    "}"
   ]
  },
  {
   "cell_type": "markdown",
   "metadata": {},
   "source": [
    "# IMPORTANCE: One time preparation"
   ]
  },
  {
   "cell_type": "code",
   "execution_count": null,
   "metadata": {},
   "outputs": [],
   "source": [
    "dim = len(index_dict)\n",
    "optim_popsize = floor(4 + 3 * np.log(dim))\n",
    "rng = jax.random.PRNGKey(int(time.time()))\n",
    "strategy = BIPOP_CMA_ES(popsize=optim_popsize, num_dims=dim)\n",
    "es_params = strategy.default_params\n",
    "eval_call_count = 0\n",
    "clip_max= np.zeros((dim,))\n",
    "clip_min= np.zeros((dim,))\n",
    "init_min= np.zeros((dim,))\n",
    "init_max= np.zeros((dim,))\n",
    "sigma_init= np.zeros((dim,))\n",
    "prev_best = None\n",
    "prev_prev_best = None"
   ]
  },
  {
   "cell_type": "code",
   "execution_count": null,
   "metadata": {},
   "outputs": [],
   "source": [
    "idx = index_dict[\"pop_size\"]\n",
    "clip_min[idx] = 8\n",
    "clip_max[idx] = 20\n",
    "init_min[idx] = init_max[idx] = 10\n",
    "sigma_init[idx] = (clip_max[idx] - clip_min[idx]) / 5\n",
    "\n",
    "idx = index_dict[\"indv_ants\"]\n",
    "clip_min[idx] = 0.10\n",
    "clip_max[idx] = 15\n",
    "init_min[idx] = init_max[idx] = ??\n",
    "sigma_init[idx] = (clip_max[idx] - clip_min[idx]) / 5\n",
    "\n",
    "idx = index_dict[\"rho\"]\n",
    "clip_min[idx] = 0.10\n",
    "clip_max[idx] = 0.94\n",
    "init_min[idx] = init_max[idx] = ??\n",
    "sigma_init[idx] = (clip_max[idx] - clip_min[idx]) / 5\n",
    "\n",
    "left_idx = index_dict[\"left_indv_ants\"]\n",
    "mid_idx = index_dict[\"mid_indv_ants\"]\n",
    "right_idx = index_dict[\"right_indv_ants\"]\n",
    "clip_min[left_idx] = clip_min[mid_idx] = clip_min[right_idx] = 0\n",
    "clip_max[left_idx] = clip_max[mid_idx] = clip_max[right_idx] = 1\n",
    "sigma_init[left_idx] = sigma_init[mid_idx] = sigma_init[right_idx] = (1 - 0) / 5\n",
    "min_indv_ants = ??\n",
    "max_indv_ants = ??\n",
    "min_min_indv_ants = 2\n",
    "max_max_indv_ants = 60\n",
    "min_indv_ants = min_indv_ants - min_min_indv_ants\n",
    "max_indv_ants = max_indv_ants - min_min_indv_ants\n",
    "max_max_indv_ants = max_max_indv_ants - min_min_indv_ants\n",
    "min_indv_ants = min_indv_ants / max_max_indv_ants\n",
    "max_indv_ants = max_indv_ants / max_max_indv_ants\n",
    "init_min[left_idx] = init_max[left_idx] = min_indv_ants - 0\n",
    "init_min[mid_idx] = init_max[mid_idx] = max_indv_ants - min_indv_ants\n",
    "init_min[right_idx] = init_max[right_idx] = 1 - max_indv_ants\n",
    "\n",
    "left_idx = index_dict[\"left_rho\"]\n",
    "mid_idx = index_dict[\"mid_rho\"]\n",
    "right_idx = index_dict[\"right_rho\"]\n",
    "clip_min[left_idx] = clip_min[mid_idx] = clip_min[right_idx] = 0\n",
    "clip_max[left_idx] = clip_max[mid_idx] = clip_max[right_idx] = 1\n",
    "sigma_init[left_idx] = sigma_init[mid_idx] = sigma_init[right_idx] = (1 - 0) / 5\n",
    "min_rho = ??\n",
    "max_rho = ??\n",
    "min_min_rho = 0.01\n",
    "max_max_rho = 0.99\n",
    "min_rho = min_rho - min_min_rho\n",
    "max_rho = max_rho - min_min_rho\n",
    "max_max_rho = max_max_rho - min_min_rho\n",
    "min_rho = min_rho / max_max_rho\n",
    "max_rho = max_rho / max_max_rho\n",
    "init_min[left_idx] = init_max[left_idx] = min_rho - 0\n",
    "init_min[mid_idx] = init_max[mid_idx] = max_rho - min_rho\n",
    "init_min[right_idx] = init_max[right_idx] = 1 - max_rho\n",
    "\n",
    "idx = index_dict[\"alpha_mean\"]\n",
    "std_idx = index_dict[\"alpha_std\"]\n",
    "clip_min[idx] = 0.01\n",
    "clip_max[idx] = 10\n",
    "init_min[idx] = init_max[idx] = ??\n",
    "sigma_init[idx] = ??\n",
    "clip_min[std_idx] = 0.01\n",
    "clip_max[std_idx] = (clip_max[idx] - clip_min[idx]) / 2\n",
    "init_min[std_idx] = init_max[std_idx] = sigma_init[idx]\n",
    "sigma_init[std_idx] = (clip_max[std_idx] - clip_min[std_idx]) / 5\n",
    "\n",
    "idx = index_dict[\"beta_mean\"]\n",
    "std_idx = index_dict[\"beta_std\"]\n",
    "clip_min[idx] = 0.01\n",
    "clip_max[idx] = 10\n",
    "init_min[idx] = init_max[idx] = ??\n",
    "sigma_init[idx] = ??\n",
    "clip_min[std_idx] = 0.01\n",
    "clip_max[std_idx] = (clip_max[idx] - clip_min[idx]) / 2\n",
    "init_min[std_idx] = init_max[std_idx] = sigma_init[idx]\n",
    "sigma_init[std_idx] = (clip_max[std_idx] - clip_min[std_idx]) / 5\n",
    "\n",
    "idx = index_dict[\"par_a_mean\"]\n",
    "std_idx = index_dict[\"par_a_std\"]\n",
    "clip_min[idx] = 0.01\n",
    "clip_max[idx] = 1\n",
    "init_min[idx] = init_max[idx] = ??\n",
    "sigma_init[idx] = ??\n",
    "clip_min[std_idx] = 0.01\n",
    "clip_max[std_idx] = (clip_max[idx] - clip_min[idx]) / 2\n",
    "init_min[std_idx] = init_max[std_idx] = sigma_init[idx]\n",
    "sigma_init[std_idx] = (clip_max[std_idx] - clip_min[std_idx]) / 5\n",
    "\n",
    "idx = index_dict[\"par_b_mean\"]\n",
    "std_idx = index_dict[\"par_b_std\"]\n",
    "clip_min[idx] = 0.01\n",
    "clip_max[idx] = 1\n",
    "init_min[idx] = init_max[idx] = ??\n",
    "sigma_init[idx] = ??\n",
    "clip_min[std_idx] = 0.01\n",
    "clip_max[std_idx] = (clip_max[idx] - clip_min[idx]) / 2\n",
    "init_min[std_idx] = init_max[std_idx] = sigma_init[idx]\n",
    "sigma_init[std_idx] = (clip_max[std_idx] - clip_min[std_idx]) / 5\n",
    "\n",
    "idx = index_dict[\"par_c_mean\"]\n",
    "std_idx = index_dict[\"par_c_std\"]\n",
    "clip_min[idx] = 0.01\n",
    "clip_max[idx] = 1\n",
    "init_min[idx] = init_max[idx] = ??\n",
    "sigma_init[idx] = ??\n",
    "clip_min[std_idx] = 0.01\n",
    "clip_max[std_idx] = (clip_max[idx] - clip_min[idx]) / 2\n",
    "init_min[std_idx] = init_max[std_idx] = sigma_init[idx]\n",
    "sigma_init[std_idx] = (clip_max[std_idx] - clip_min[std_idx]) / 5"
   ]
  },
  {
   "cell_type": "code",
   "execution_count": null,
   "metadata": {},
   "outputs": [],
   "source": [
    "es_params = es_params.replace(\n",
    "        strategy_params=es_params.strategy_params.replace(\n",
    "            clip_min=jnp.array(clip_min),\n",
    "            clip_max=jnp.array(clip_max),\n",
    "            init_min=jnp.array(init_min),\n",
    "            init_max=jnp.array(init_max),\n",
    "            sigma_init=jnp.array(sigma_init),\n",
    "            )\n",
    "        )\n",
    "state = strategy.initialize(rng, es_params)"
   ]
  },
  {
   "cell_type": "code",
   "execution_count": null,
   "metadata": {},
   "outputs": [],
   "source": [
    "assert not os.path.exists(save_path)\n",
    "assert not os.path.exists(save_path)\n",
    "assert not os.path.exists(save_path)\n",
    "save_study()"
   ]
  },
  {
   "cell_type": "markdown",
   "metadata": {},
   "source": [
    "# Tuning"
   ]
  },
  {
   "cell_type": "code",
   "execution_count": null,
   "metadata": {},
   "outputs": [],
   "source": [
    "load_study()\n",
    "# minimize\n",
    "while True:\n",
    "    rng, rng_ask = jax.random.split(rng, 2)\n",
    "\n",
    "    if state.restart_state.restart_next:\n",
    "        print(f\"--> Restarted Strategy: {eval_call_count} eval calls\")\n",
    "        print_update = True\n",
    "    else:\n",
    "        print_update = False\n",
    "\n",
    "    x, state = strategy.ask(rng_ask, state, es_params)\n",
    "\n",
    "    if print_update:\n",
    "        print(f\"--> New Popsize: {state.restart_state.active_popsize}\")\n",
    "\n",
    "    x = repair_pop(x)\n",
    "    if eval_call_count != 0:\n",
    "        x[-1] = prev_best\n",
    "        x[-2] = prev_prev_best\n",
    "\n",
    "    fitness = evaluate_pop(x)\n",
    "\n",
    "    prev_prev_best = prev_best\n",
    "    prev_best = x[fitness.argmin()]\n",
    "\n",
    "    x = jnp.array(x)\n",
    "    fitness = jnp.array(fitness)\n",
    "    \n",
    "    state = strategy.tell(x, fitness, state, es_params)\n",
    "    save_study()\n",
    "\n",
    "    print(f\"total # eval: {eval_call_count} | gen_mean_fitness: {- fitness.mean():.4f} | gen_best: {to_chain_flags(prev_best)}\")\n",
    "\n",
    "    with open(\"signal.txt\", \"rt\") as f:\n",
    "        if f.read() == \"BREAK\":\n",
    "            break"
   ]
  },
  {
   "cell_type": "code",
   "execution_count": 3,
   "metadata": {},
   "outputs": [],
   "source": [
    "import numpy as np"
   ]
  },
  {
   "cell_type": "code",
   "execution_count": 4,
   "metadata": {},
   "outputs": [
    {
     "data": {
      "text/plain": [
       "False"
      ]
     },
     "execution_count": 4,
     "metadata": {},
     "output_type": "execute_result"
    }
   ],
   "source": [
    "np.nan"
   ]
  },
  {
   "cell_type": "code",
   "execution_count": 6,
   "metadata": {},
   "outputs": [
    {
     "name": "stdout",
     "output_type": "stream",
     "text": [
      "haha\n"
     ]
    }
   ],
   "source": [
    "if [np.nan, np.nan]:\n",
    "    print(\"haha\")"
   ]
  }
 ],
 "metadata": {
  "kernelspec": {
   "display_name": "Python 3",
   "language": "python",
   "name": "python3"
  },
  "language_info": {
   "codemirror_mode": {
    "name": "ipython",
    "version": 3
   },
   "file_extension": ".py",
   "mimetype": "text/x-python",
   "name": "python",
   "nbconvert_exporter": "python",
   "pygments_lexer": "ipython3",
   "version": "3.8.16"
  },
  "orig_nbformat": 4
 },
 "nbformat": 4,
 "nbformat_minor": 2
}
