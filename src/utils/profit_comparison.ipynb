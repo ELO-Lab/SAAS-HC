{
 "cells": [
  {
   "cell_type": "code",
   "execution_count": null,
   "metadata": {},
   "outputs": [],
   "source": [
    "import pickle\n",
    "from pathlib import Path\n",
    "from scipy.stats import ttest_ind\n",
    "import numpy as np\n",
    "import pandas as pd"
   ]
  },
  {
   "cell_type": "code",
   "execution_count": null,
   "metadata": {},
   "outputs": [],
   "source": [
    "exp_dir = Path(\"../../experiments\")\n",
    "dir_A = [\n",
    "    exp_dir / \"saas_hc\",\n",
    "]\n",
    "dir_B = Path(\"../acopp\")\n",
    "# (A - B) / B\n",
    "target_p_values = [0.05]"
   ]
  },
  {
   "cell_type": "code",
   "execution_count": null,
   "metadata": {},
   "outputs": [],
   "source": [
    "df_A = []\n",
    "for _dir in dir_A:\n",
    "    with open(_dir / \"profit_table.pkl\", \"rb\") as f:\n",
    "        df = pickle.load(f)\n",
    "        df = df.T.sort_index().T\n",
    "        df_A.append(df)\n",
    "\n",
    "columns = list(df_A[0].columns)"
   ]
  },
  {
   "cell_type": "code",
   "execution_count": null,
   "metadata": {},
   "outputs": [],
   "source": [
    "with open(dir_B / \"profit_table.pkl\", \"rb\") as f:\n",
    "    df_B = pickle.load(f)\n",
    "df_B = df_B.loc[:, columns]"
   ]
  },
  {
   "cell_type": "code",
   "execution_count": null,
   "metadata": {},
   "outputs": [],
   "source": [
    "def print_row(temp_df_A, temp_df_B, name):\n",
    "    gain_percent = (temp_df_A - temp_df_B) / temp_df_B * 100\n",
    "    victory_percent = (gain_percent >= 0).sum() / len(gain_percent) * 100\n",
    "    average_gain_percent = gain_percent.mean()\n",
    "    print(f\"{name}\\t\\t{victory_percent:.4f}\\t\\t{average_gain_percent:.4f}\")"
   ]
  },
  {
   "cell_type": "code",
   "execution_count": null,
   "metadata": {},
   "outputs": [],
   "source": [
    "def make_temp(df):\n",
    "    temp_df = df.T.apply(np.array, axis=1).reset_index()\n",
    "    temp_df.columns = [\"instance\", \"profit_array\"]\n",
    "    temp_df['mean'] = temp_df.apply(lambda row: row.profit_array.mean(), axis=1)\n",
    "    temp_df.sort_values(by=[\"instance\"], inplace=True)\n",
    "    # temp_df.set_index(\"instance\", inplace=True)\n",
    "    return temp_df"
   ]
  },
  {
   "cell_type": "code",
   "execution_count": null,
   "metadata": {},
   "outputs": [],
   "source": [
    "print(\"name\\t\\tvictory_percent\\t\\taverage_gain_percent\")\n",
    "operators = ['min', 'mean', 'max']\n",
    "\n",
    "for _op in operators:\n",
    "    temp_df_B = df_B.describe().T[_op]\n",
    "    for idx, _dir in enumerate(dir_A):\n",
    "        temp_df_A = df_A[idx].describe().T[_op]\n",
    "        name = f\"{_dir.name}_{_op}\"\n",
    "        print_row(temp_df_A, temp_df_B, name)\n",
    "\n",
    "temp_df_B = make_temp(df_B)\n",
    "for idx, _dir in enumerate(dir_A):\n",
    "    temp_df_A = make_temp(df_A[idx])\n",
    "    p_values = np.zeros(len(columns))\n",
    "    for i in range(len(columns)):\n",
    "        a = temp_df_A.iloc[i].profit_array\n",
    "        b = temp_df_B.iloc[i].profit_array\n",
    "        ttest_res = ttest_ind(a, b)\n",
    "        p_values[i] = ttest_res[-1]\n",
    "    for _target_pvalue in target_p_values:\n",
    "        mask = (p_values <= _target_pvalue)\n",
    "        # print(mask.sum())\n",
    "        name = f\"{_dir.name} (pvalue = {_target_pvalue})\"\n",
    "        print_row(temp_df_A.loc[mask, \"mean\"], temp_df_B.loc[mask, \"mean\"], name)\n"
   ]
  },
  {
   "cell_type": "markdown",
   "metadata": {},
   "source": [
    "# make_gain_percent"
   ]
  },
  {
   "cell_type": "code",
   "execution_count": null,
   "metadata": {},
   "outputs": [],
   "source": [
    "temp_df_A = df_A[0].describe().T['mean']\n",
    "temp_df_B = df_B.describe().T['mean']\n",
    "mean_gain = (temp_df_A - temp_df_B) / temp_df_B * 100\n",
    "mean_gain = mean_gain.reset_index()\n",
    "mean_gain.columns = [\"instance\", \"gain_percent\"]\n",
    "mean_gain.info()"
   ]
  },
  {
   "cell_type": "code",
   "execution_count": null,
   "metadata": {},
   "outputs": [],
   "source": [
    "acopp_mean_df = pd.read_csv(\"../acopp/acopp_mean.csv\")\n",
    "acopp_mean_df.columns = [\"instance\", \"acopp_profit\"]\n",
    "acopp_mean_df.info()"
   ]
  },
  {
   "cell_type": "code",
   "execution_count": null,
   "metadata": {},
   "outputs": [],
   "source": [
    "new_df = pd.merge(mean_gain, acopp_mean_df)\n",
    "new_df.sort_values(by=[\"gain_percent\"], inplace=True)"
   ]
  },
  {
   "cell_type": "code",
   "execution_count": null,
   "metadata": {},
   "outputs": [],
   "source": [
    "new_df.to_csv(\"./gain_percent.csv\", index=False)"
   ]
  }
 ],
 "metadata": {
  "kernelspec": {
   "display_name": "thop",
   "language": "python",
   "name": "python3"
  },
  "language_info": {
   "codemirror_mode": {
    "name": "ipython",
    "version": 3
   },
   "file_extension": ".py",
   "mimetype": "text/x-python",
   "name": "python",
   "nbconvert_exporter": "python",
   "pygments_lexer": "ipython3",
   "version": "3.10.12"
  },
  "orig_nbformat": 4
 },
 "nbformat": 4,
 "nbformat_minor": 2
}
